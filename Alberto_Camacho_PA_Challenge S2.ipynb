{
 "cells": [
  {
   "cell_type": "markdown",
   "metadata": {},
   "source": [
    "<img src=\"mioti.png\" style=\"height: 100px\">\n",
    "<center style=\"color:#888\">Módulo Data Science in IoT<br/>Asignatura Data Visualization</center>\n",
    "\n",
    "# Challenge S2 : Introducción a los Modelos de Previsión en Series Temporales"
   ]
  },
  {
   "cell_type": "markdown",
   "metadata": {},
   "source": [
    "# 0. Objetivo\n",
    "\n",
    "El objetivo de este challenge es realizar previsiones de series temporales, utilizando modelos sencillos para familiarizarnos con los principales conceptos de la modelización y previsión de variables"
   ]
  },
  {
   "cell_type": "markdown",
   "metadata": {},
   "source": [
    "<img src=\"bicicletas_chicago_challenge.jpg\" style=\"float:right; height: 250px\"></img>\n",
    "Vamos a seguir con el caso práctico de previsión sobre los alquileres de bicicletas de Chicago, pero en este caso vamos a realizar un estudio más a medio plazo, pues nos piden una previsión sobre cual va a ser el alquiler de bicicletas para los próximos **4 TRIMESTRES**. \n",
    "\n",
    "Para ello disponemos del histórico de alquileres de los últimos 7 años a nivel TRIMESTRAL.\n",
    "\n",
    "Contesta a las diferentes preguntas que aparecen en el desarrollo.\n"
   ]
  },
  {
   "cell_type": "markdown",
   "metadata": {},
   "source": [
    "## 1. Preparar el contexto"
   ]
  },
  {
   "cell_type": "markdown",
   "metadata": {},
   "source": [
    "Como paso previo, cargamos las librerías que serán necesarias en nuestro estudio."
   ]
  },
  {
   "cell_type": "code",
   "execution_count": 1,
   "metadata": {},
   "outputs": [],
   "source": [
    "import numpy as np\n",
    "import pandas as pd\n",
    "import matplotlib.pyplot as plt\n",
    "%matplotlib inline"
   ]
  },
  {
   "cell_type": "markdown",
   "metadata": {},
   "source": [
    "## 2. Pretratado de los datos\n",
    "\n",
    "Recuerda que en este ejercicio, debemos leer nuestro fichero y crear un dataframe que incluya nuestro histórico y las fechas en las que queremos hacer la previsión.\n",
    "\n",
    "No olvides que seguimos trabajando con series temporales, por lo que, tendremos una variable tiempo."
   ]
  },
  {
   "cell_type": "code",
   "execution_count": 2,
   "metadata": {},
   "outputs": [],
   "source": [
    "## Lectura de los datos\n",
    "data_path = 'year_q_chicago.csv'\n",
    "df_datos = pd.read_csv(data_path)"
   ]
  },
  {
   "cell_type": "code",
   "execution_count": 3,
   "metadata": {},
   "outputs": [
    {
     "name": "stdout",
     "output_type": "stream",
     "text": [
      "<class 'pandas.core.frame.DataFrame'>\n",
      "RangeIndex: 28 entries, 0 to 27\n",
      "Data columns (total 2 columns):\n",
      "cnt     28 non-null int64\n",
      "date    28 non-null object\n",
      "dtypes: int64(1), object(1)\n",
      "memory usage: 528.0+ bytes\n"
     ]
    }
   ],
   "source": [
    "## Revisión de los datos\n",
    "df_datos.info()"
   ]
  },
  {
   "cell_type": "code",
   "execution_count": 4,
   "metadata": {},
   "outputs": [
    {
     "data": {
      "text/html": [
       "<div>\n",
       "<style scoped>\n",
       "    .dataframe tbody tr th:only-of-type {\n",
       "        vertical-align: middle;\n",
       "    }\n",
       "\n",
       "    .dataframe tbody tr th {\n",
       "        vertical-align: top;\n",
       "    }\n",
       "\n",
       "    .dataframe thead th {\n",
       "        text-align: right;\n",
       "    }\n",
       "</style>\n",
       "<table border=\"1\" class=\"dataframe\">\n",
       "  <thead>\n",
       "    <tr style=\"text-align: right;\">\n",
       "      <th></th>\n",
       "      <th>cnt</th>\n",
       "      <th>date</th>\n",
       "    </tr>\n",
       "  </thead>\n",
       "  <tbody>\n",
       "    <tr>\n",
       "      <th>23</th>\n",
       "      <td>1130918</td>\n",
       "      <td>2016-12-31</td>\n",
       "    </tr>\n",
       "    <tr>\n",
       "      <th>24</th>\n",
       "      <td>1106201</td>\n",
       "      <td>2017-03-31</td>\n",
       "    </tr>\n",
       "    <tr>\n",
       "      <th>25</th>\n",
       "      <td>1514973</td>\n",
       "      <td>2017-06-30</td>\n",
       "    </tr>\n",
       "    <tr>\n",
       "      <th>26</th>\n",
       "      <td>2067336</td>\n",
       "      <td>2017-09-30</td>\n",
       "    </tr>\n",
       "    <tr>\n",
       "      <th>27</th>\n",
       "      <td>1303435</td>\n",
       "      <td>2017-12-31</td>\n",
       "    </tr>\n",
       "  </tbody>\n",
       "</table>\n",
       "</div>"
      ],
      "text/plain": [
       "        cnt        date\n",
       "23  1130918  2016-12-31\n",
       "24  1106201  2017-03-31\n",
       "25  1514973  2017-06-30\n",
       "26  2067336  2017-09-30\n",
       "27  1303435  2017-12-31"
      ]
     },
     "execution_count": 4,
     "metadata": {},
     "output_type": "execute_result"
    }
   ],
   "source": [
    "df_datos.tail()"
   ]
  },
  {
   "cell_type": "code",
   "execution_count": 5,
   "metadata": {},
   "outputs": [],
   "source": [
    "## Creamos un campo fecha\n",
    "df_datos['date'] = pd.to_datetime(df_datos['date'], format='%Y-%m-%d')\n"
   ]
  },
  {
   "cell_type": "code",
   "execution_count": 6,
   "metadata": {},
   "outputs": [],
   "source": [
    "## Creamos un dataframe con el histórico\n",
    "df_alquileres = pd.DataFrame(df_datos['cnt'].tolist(),\n",
    "                             index = df_datos['date'].tolist(),\n",
    "                             columns = ['cnt'])"
   ]
  },
  {
   "cell_type": "markdown",
   "metadata": {},
   "source": [
    "Recordemos que vamos a realizar la predicción sobre los **4 trimestres** siguientes."
   ]
  },
  {
   "cell_type": "code",
   "execution_count": 7,
   "metadata": {},
   "outputs": [
    {
     "data": {
      "text/plain": [
       "DatetimeIndex(['2018-03-31', '2018-06-30', '2018-09-30', '2018-12-31'], dtype='datetime64[ns]', freq='Q-DEC')"
      ]
     },
     "execution_count": 7,
     "metadata": {},
     "output_type": "execute_result"
    }
   ],
   "source": [
    "## Periodos en los que vamos a hacer la predicción\n",
    "periodos = pd.date_range('2018-03-31', periods = 4, freq = 'Q')\n",
    "periodos"
   ]
  },
  {
   "cell_type": "code",
   "execution_count": 8,
   "metadata": {},
   "outputs": [
    {
     "data": {
      "text/html": [
       "<div>\n",
       "<style scoped>\n",
       "    .dataframe tbody tr th:only-of-type {\n",
       "        vertical-align: middle;\n",
       "    }\n",
       "\n",
       "    .dataframe tbody tr th {\n",
       "        vertical-align: top;\n",
       "    }\n",
       "\n",
       "    .dataframe thead th {\n",
       "        text-align: right;\n",
       "    }\n",
       "</style>\n",
       "<table border=\"1\" class=\"dataframe\">\n",
       "  <thead>\n",
       "    <tr style=\"text-align: right;\">\n",
       "      <th></th>\n",
       "      <th>cnt</th>\n",
       "    </tr>\n",
       "  </thead>\n",
       "  <tbody>\n",
       "    <tr>\n",
       "      <th>2018-03-31</th>\n",
       "      <td>NaN</td>\n",
       "    </tr>\n",
       "    <tr>\n",
       "      <th>2018-06-30</th>\n",
       "      <td>NaN</td>\n",
       "    </tr>\n",
       "    <tr>\n",
       "      <th>2018-09-30</th>\n",
       "      <td>NaN</td>\n",
       "    </tr>\n",
       "    <tr>\n",
       "      <th>2018-12-31</th>\n",
       "      <td>NaN</td>\n",
       "    </tr>\n",
       "  </tbody>\n",
       "</table>\n",
       "</div>"
      ],
      "text/plain": [
       "            cnt\n",
       "2018-03-31  NaN\n",
       "2018-06-30  NaN\n",
       "2018-09-30  NaN\n",
       "2018-12-31  NaN"
      ]
     },
     "execution_count": 8,
     "metadata": {},
     "output_type": "execute_result"
    }
   ],
   "source": [
    "## Creamos un dataframe con nuestras fechas a predecir\n",
    "df_prediccion = pd.DataFrame({'cnt':[np.nan,np.nan,np.nan,np.nan]},\n",
    "                             index = periodos)\n",
    "df_prediccion"
   ]
  },
  {
   "cell_type": "code",
   "execution_count": 9,
   "metadata": {},
   "outputs": [],
   "source": [
    "## Unimos el dataframe del histórico y el de la predicción\n",
    "df_alquileres = pd.concat([df_alquileres, df_prediccion], ignore_index = False)"
   ]
  },
  {
   "cell_type": "markdown",
   "metadata": {},
   "source": [
    "## 2. Componentes de la serie temporal"
   ]
  },
  {
   "cell_type": "markdown",
   "metadata": {},
   "source": [
    "Representa la serie resultante."
   ]
  },
  {
   "cell_type": "code",
   "execution_count": 10,
   "metadata": {},
   "outputs": [
    {
     "data": {
      "text/plain": [
       "<matplotlib.axes._subplots.AxesSubplot at 0x11ef568d0>"
      ]
     },
     "execution_count": 10,
     "metadata": {},
     "output_type": "execute_result"
    },
    {
     "data": {
      "image/png": "[encoded data removed]",
      "text/plain": [
       "<Figure size 720x360 with 1 Axes>"
      ]
     },
     "metadata": {
      "needs_background": "light"
     },
     "output_type": "display_data"
    }
   ],
   "source": [
    "## Representamos la serie temporal\n",
    "df_alquileres.plot(figsize=(10,5),\n",
    "                  title='¿Cómo evoluciona el número de alquileres de bicicletas por cuatrimestre? \\n')"
   ]
  },
  {
   "cell_type": "markdown",
   "metadata": {},
   "source": [
    "##### *P: ¿Qué componentes de una serie temporal tiene el alquiler de bicicletas?*"
   ]
  },
  {
   "cell_type": "markdown",
   "metadata": {
    "collapsed": true
   },
   "source": [
    "Tendencia y estacionalidad"
   ]
  },
  {
   "cell_type": "markdown",
   "metadata": {},
   "source": [
    "## 3. Predicciones sobre la serie temporal"
   ]
  },
  {
   "cell_type": "markdown",
   "metadata": {},
   "source": [
    "Para realizar nuestra predicción vamos a reutilizar los tres modelos que hemos usado en el desarrollo del worksheet:\n",
    "\n",
    "Modelo 1: *Mi previsión de alquileres = Alquileres último dato*\n",
    "\n",
    "Modelo 2: *Mi previsión de alquileres = Alquileres último dato + la variación del último dato*\n",
    "\n",
    "Modelo 3: *Mi previsión de alquileres = Media de TODOS los alquileres*"
   ]
  },
  {
   "cell_type": "markdown",
   "metadata": {},
   "source": [
    "### 3.1.- Modelo 1\n",
    "\n",
    "Utiliza este modelo para calcular la previsión y represéntala gráficamente.\n",
    "\n",
    "Mi previsión de alquileres = Alquileres último año (en este caso trimestre)"
   ]
  },
  {
   "cell_type": "code",
   "execution_count": 11,
   "metadata": {},
   "outputs": [
    {
     "data": {
      "text/html": [
       "<div>\n",
       "<style scoped>\n",
       "    .dataframe tbody tr th:only-of-type {\n",
       "        vertical-align: middle;\n",
       "    }\n",
       "\n",
       "    .dataframe tbody tr th {\n",
       "        vertical-align: top;\n",
       "    }\n",
       "\n",
       "    .dataframe thead th {\n",
       "        text-align: right;\n",
       "    }\n",
       "</style>\n",
       "<table border=\"1\" class=\"dataframe\">\n",
       "  <thead>\n",
       "    <tr style=\"text-align: right;\">\n",
       "      <th></th>\n",
       "      <th>cnt</th>\n",
       "      <th>prevision_M1</th>\n",
       "    </tr>\n",
       "  </thead>\n",
       "  <tbody>\n",
       "    <tr>\n",
       "      <th>2011-03-31</th>\n",
       "      <td>217543.0</td>\n",
       "      <td>NaN</td>\n",
       "    </tr>\n",
       "    <tr>\n",
       "      <th>2011-06-30</th>\n",
       "      <td>285236.0</td>\n",
       "      <td>NaN</td>\n",
       "    </tr>\n",
       "    <tr>\n",
       "      <th>2011-09-30</th>\n",
       "      <td>466163.0</td>\n",
       "      <td>NaN</td>\n",
       "    </tr>\n",
       "    <tr>\n",
       "      <th>2011-12-31</th>\n",
       "      <td>254159.0</td>\n",
       "      <td>NaN</td>\n",
       "    </tr>\n",
       "    <tr>\n",
       "      <th>2012-03-31</th>\n",
       "      <td>358675.0</td>\n",
       "      <td>NaN</td>\n",
       "    </tr>\n",
       "    <tr>\n",
       "      <th>2012-06-30</th>\n",
       "      <td>476774.0</td>\n",
       "      <td>NaN</td>\n",
       "    </tr>\n",
       "    <tr>\n",
       "      <th>2012-09-30</th>\n",
       "      <td>708591.0</td>\n",
       "      <td>NaN</td>\n",
       "    </tr>\n",
       "    <tr>\n",
       "      <th>2012-12-31</th>\n",
       "      <td>445534.0</td>\n",
       "      <td>NaN</td>\n",
       "    </tr>\n",
       "    <tr>\n",
       "      <th>2013-03-31</th>\n",
       "      <td>503706.0</td>\n",
       "      <td>NaN</td>\n",
       "    </tr>\n",
       "    <tr>\n",
       "      <th>2013-06-30</th>\n",
       "      <td>693602.0</td>\n",
       "      <td>NaN</td>\n",
       "    </tr>\n",
       "    <tr>\n",
       "      <th>2013-09-30</th>\n",
       "      <td>1009371.0</td>\n",
       "      <td>NaN</td>\n",
       "    </tr>\n",
       "    <tr>\n",
       "      <th>2013-12-31</th>\n",
       "      <td>601644.0</td>\n",
       "      <td>NaN</td>\n",
       "    </tr>\n",
       "    <tr>\n",
       "      <th>2014-03-31</th>\n",
       "      <td>669587.0</td>\n",
       "      <td>NaN</td>\n",
       "    </tr>\n",
       "    <tr>\n",
       "      <th>2014-06-30</th>\n",
       "      <td>858011.0</td>\n",
       "      <td>NaN</td>\n",
       "    </tr>\n",
       "    <tr>\n",
       "      <th>2014-09-30</th>\n",
       "      <td>1260544.0</td>\n",
       "      <td>NaN</td>\n",
       "    </tr>\n",
       "    <tr>\n",
       "      <th>2014-12-31</th>\n",
       "      <td>786641.0</td>\n",
       "      <td>NaN</td>\n",
       "    </tr>\n",
       "    <tr>\n",
       "      <th>2015-03-31</th>\n",
       "      <td>808013.0</td>\n",
       "      <td>NaN</td>\n",
       "    </tr>\n",
       "    <tr>\n",
       "      <th>2015-06-30</th>\n",
       "      <td>1195874.0</td>\n",
       "      <td>NaN</td>\n",
       "    </tr>\n",
       "    <tr>\n",
       "      <th>2015-09-30</th>\n",
       "      <td>1517170.0</td>\n",
       "      <td>NaN</td>\n",
       "    </tr>\n",
       "    <tr>\n",
       "      <th>2015-12-31</th>\n",
       "      <td>944730.0</td>\n",
       "      <td>NaN</td>\n",
       "    </tr>\n",
       "    <tr>\n",
       "      <th>2016-03-31</th>\n",
       "      <td>953109.0</td>\n",
       "      <td>NaN</td>\n",
       "    </tr>\n",
       "    <tr>\n",
       "      <th>2016-06-30</th>\n",
       "      <td>1282791.0</td>\n",
       "      <td>NaN</td>\n",
       "    </tr>\n",
       "    <tr>\n",
       "      <th>2016-09-30</th>\n",
       "      <td>1788092.0</td>\n",
       "      <td>NaN</td>\n",
       "    </tr>\n",
       "    <tr>\n",
       "      <th>2016-12-31</th>\n",
       "      <td>1130918.0</td>\n",
       "      <td>NaN</td>\n",
       "    </tr>\n",
       "    <tr>\n",
       "      <th>2017-03-31</th>\n",
       "      <td>1106201.0</td>\n",
       "      <td>NaN</td>\n",
       "    </tr>\n",
       "    <tr>\n",
       "      <th>2017-06-30</th>\n",
       "      <td>1514973.0</td>\n",
       "      <td>NaN</td>\n",
       "    </tr>\n",
       "    <tr>\n",
       "      <th>2017-09-30</th>\n",
       "      <td>2067336.0</td>\n",
       "      <td>NaN</td>\n",
       "    </tr>\n",
       "    <tr>\n",
       "      <th>2017-12-31</th>\n",
       "      <td>1303435.0</td>\n",
       "      <td>1303435.0</td>\n",
       "    </tr>\n",
       "    <tr>\n",
       "      <th>2018-03-31</th>\n",
       "      <td>NaN</td>\n",
       "      <td>1303435.0</td>\n",
       "    </tr>\n",
       "    <tr>\n",
       "      <th>2018-06-30</th>\n",
       "      <td>NaN</td>\n",
       "      <td>1303435.0</td>\n",
       "    </tr>\n",
       "    <tr>\n",
       "      <th>2018-09-30</th>\n",
       "      <td>NaN</td>\n",
       "      <td>1303435.0</td>\n",
       "    </tr>\n",
       "    <tr>\n",
       "      <th>2018-12-31</th>\n",
       "      <td>NaN</td>\n",
       "      <td>1303435.0</td>\n",
       "    </tr>\n",
       "  </tbody>\n",
       "</table>\n",
       "</div>"
      ],
      "text/plain": [
       "                  cnt  prevision_M1\n",
       "2011-03-31   217543.0           NaN\n",
       "2011-06-30   285236.0           NaN\n",
       "2011-09-30   466163.0           NaN\n",
       "2011-12-31   254159.0           NaN\n",
       "2012-03-31   358675.0           NaN\n",
       "2012-06-30   476774.0           NaN\n",
       "2012-09-30   708591.0           NaN\n",
       "2012-12-31   445534.0           NaN\n",
       "2013-03-31   503706.0           NaN\n",
       "2013-06-30   693602.0           NaN\n",
       "2013-09-30  1009371.0           NaN\n",
       "2013-12-31   601644.0           NaN\n",
       "2014-03-31   669587.0           NaN\n",
       "2014-06-30   858011.0           NaN\n",
       "2014-09-30  1260544.0           NaN\n",
       "2014-12-31   786641.0           NaN\n",
       "2015-03-31   808013.0           NaN\n",
       "2015-06-30  1195874.0           NaN\n",
       "2015-09-30  1517170.0           NaN\n",
       "2015-12-31   944730.0           NaN\n",
       "2016-03-31   953109.0           NaN\n",
       "2016-06-30  1282791.0           NaN\n",
       "2016-09-30  1788092.0           NaN\n",
       "2016-12-31  1130918.0           NaN\n",
       "2017-03-31  1106201.0           NaN\n",
       "2017-06-30  1514973.0           NaN\n",
       "2017-09-30  2067336.0           NaN\n",
       "2017-12-31  1303435.0     1303435.0\n",
       "2018-03-31        NaN     1303435.0\n",
       "2018-06-30        NaN     1303435.0\n",
       "2018-09-30        NaN     1303435.0\n",
       "2018-12-31        NaN     1303435.0"
      ]
     },
     "execution_count": 11,
     "metadata": {},
     "output_type": "execute_result"
    }
   ],
   "source": [
    "## Creamos un campo para nuestra previsión y lo rellenamos con Nan\n",
    "df_alquileres['prevision_M1'] = np.nan\n",
    "df_alquileres['prevision_M1'][-5:]=df_alquileres['cnt'][-5]\n",
    "df_alquileres"
   ]
  },
  {
   "cell_type": "code",
   "execution_count": 12,
   "metadata": {},
   "outputs": [
    {
     "data": {
      "text/plain": [
       "<matplotlib.axes._subplots.AxesSubplot at 0x11f342208>"
      ]
     },
     "execution_count": 12,
     "metadata": {},
     "output_type": "execute_result"
    },
    {
     "data": {
      "image/png": "[encoded data removed]",
      "text/plain": [
       "<Figure size 720x360 with 1 Axes>"
      ]
     },
     "metadata": {
      "needs_background": "light"
     },
     "output_type": "display_data"
    }
   ],
   "source": [
    "## Representamos el resultado\n",
    "df_alquileres.plot(figsize=(10,5),\n",
    "                  title='¿Cuál es nuestra previsión? \\n')"
   ]
  },
  {
   "cell_type": "markdown",
   "metadata": {},
   "source": [
    "##### *P: ¿Qué le pasa a mi previsión? ¿cómo podría mejorarla?*"
   ]
  },
  {
   "cell_type": "markdown",
   "metadata": {
    "collapsed": true
   },
   "source": [
    "Esta previsión se realiza de la componente aleatoria, pero aún no tiene la componente de tendencia y estacionalidad asociada."
   ]
  },
  {
   "cell_type": "markdown",
   "metadata": {},
   "source": [
    "### 3.2.- Modelo 2\n",
    "\n",
    "Utiliza este modelo para calcular la previsión y represéntala gráficamente.\n",
    "\n",
    "Mi previsión de alquileres = Alquileres último dato + la variación del último dato"
   ]
  },
  {
   "cell_type": "code",
   "execution_count": 13,
   "metadata": {},
   "outputs": [],
   "source": [
    "## Hacemos un desplazamiento de nuestra variable para calcular esa variación\n",
    "df_alquileres['cnt_shift'] = df_alquileres['cnt'].shift(1)\n",
    "df_alquileres['var AA'] = df_alquileres['cnt'] - df_alquileres['cnt_shift']\n",
    "## Creamos un campo para nuestra previsión y lo rellenamos con Nan\n",
    "df_alquileres['prevision_M2']=np.nan\n",
    "## Igualamos el último valor al registro correspondiente de la nueva variable (para que se vea mejor la representación)\n",
    "df_alquileres['prevision_M2'][-5] = df_alquileres['cnt'][-5]"
   ]
  },
  {
   "cell_type": "code",
   "execution_count": 14,
   "metadata": {},
   "outputs": [
    {
     "data": {
      "text/html": [
       "<div>\n",
       "<style scoped>\n",
       "    .dataframe tbody tr th:only-of-type {\n",
       "        vertical-align: middle;\n",
       "    }\n",
       "\n",
       "    .dataframe tbody tr th {\n",
       "        vertical-align: top;\n",
       "    }\n",
       "\n",
       "    .dataframe thead th {\n",
       "        text-align: right;\n",
       "    }\n",
       "</style>\n",
       "<table border=\"1\" class=\"dataframe\">\n",
       "  <thead>\n",
       "    <tr style=\"text-align: right;\">\n",
       "      <th></th>\n",
       "      <th>cnt</th>\n",
       "      <th>prevision_M1</th>\n",
       "      <th>cnt_shift</th>\n",
       "      <th>var AA</th>\n",
       "      <th>prevision_M2</th>\n",
       "    </tr>\n",
       "  </thead>\n",
       "  <tbody>\n",
       "    <tr>\n",
       "      <th>2011-03-31</th>\n",
       "      <td>217543.0</td>\n",
       "      <td>NaN</td>\n",
       "      <td>NaN</td>\n",
       "      <td>NaN</td>\n",
       "      <td>NaN</td>\n",
       "    </tr>\n",
       "    <tr>\n",
       "      <th>2011-06-30</th>\n",
       "      <td>285236.0</td>\n",
       "      <td>NaN</td>\n",
       "      <td>217543.0</td>\n",
       "      <td>67693.0</td>\n",
       "      <td>NaN</td>\n",
       "    </tr>\n",
       "    <tr>\n",
       "      <th>2011-09-30</th>\n",
       "      <td>466163.0</td>\n",
       "      <td>NaN</td>\n",
       "      <td>285236.0</td>\n",
       "      <td>180927.0</td>\n",
       "      <td>NaN</td>\n",
       "    </tr>\n",
       "    <tr>\n",
       "      <th>2011-12-31</th>\n",
       "      <td>254159.0</td>\n",
       "      <td>NaN</td>\n",
       "      <td>466163.0</td>\n",
       "      <td>-212004.0</td>\n",
       "      <td>NaN</td>\n",
       "    </tr>\n",
       "    <tr>\n",
       "      <th>2012-03-31</th>\n",
       "      <td>358675.0</td>\n",
       "      <td>NaN</td>\n",
       "      <td>254159.0</td>\n",
       "      <td>104516.0</td>\n",
       "      <td>NaN</td>\n",
       "    </tr>\n",
       "    <tr>\n",
       "      <th>2012-06-30</th>\n",
       "      <td>476774.0</td>\n",
       "      <td>NaN</td>\n",
       "      <td>358675.0</td>\n",
       "      <td>118099.0</td>\n",
       "      <td>NaN</td>\n",
       "    </tr>\n",
       "    <tr>\n",
       "      <th>2012-09-30</th>\n",
       "      <td>708591.0</td>\n",
       "      <td>NaN</td>\n",
       "      <td>476774.0</td>\n",
       "      <td>231817.0</td>\n",
       "      <td>NaN</td>\n",
       "    </tr>\n",
       "    <tr>\n",
       "      <th>2012-12-31</th>\n",
       "      <td>445534.0</td>\n",
       "      <td>NaN</td>\n",
       "      <td>708591.0</td>\n",
       "      <td>-263057.0</td>\n",
       "      <td>NaN</td>\n",
       "    </tr>\n",
       "    <tr>\n",
       "      <th>2013-03-31</th>\n",
       "      <td>503706.0</td>\n",
       "      <td>NaN</td>\n",
       "      <td>445534.0</td>\n",
       "      <td>58172.0</td>\n",
       "      <td>NaN</td>\n",
       "    </tr>\n",
       "    <tr>\n",
       "      <th>2013-06-30</th>\n",
       "      <td>693602.0</td>\n",
       "      <td>NaN</td>\n",
       "      <td>503706.0</td>\n",
       "      <td>189896.0</td>\n",
       "      <td>NaN</td>\n",
       "    </tr>\n",
       "    <tr>\n",
       "      <th>2013-09-30</th>\n",
       "      <td>1009371.0</td>\n",
       "      <td>NaN</td>\n",
       "      <td>693602.0</td>\n",
       "      <td>315769.0</td>\n",
       "      <td>NaN</td>\n",
       "    </tr>\n",
       "    <tr>\n",
       "      <th>2013-12-31</th>\n",
       "      <td>601644.0</td>\n",
       "      <td>NaN</td>\n",
       "      <td>1009371.0</td>\n",
       "      <td>-407727.0</td>\n",
       "      <td>NaN</td>\n",
       "    </tr>\n",
       "    <tr>\n",
       "      <th>2014-03-31</th>\n",
       "      <td>669587.0</td>\n",
       "      <td>NaN</td>\n",
       "      <td>601644.0</td>\n",
       "      <td>67943.0</td>\n",
       "      <td>NaN</td>\n",
       "    </tr>\n",
       "    <tr>\n",
       "      <th>2014-06-30</th>\n",
       "      <td>858011.0</td>\n",
       "      <td>NaN</td>\n",
       "      <td>669587.0</td>\n",
       "      <td>188424.0</td>\n",
       "      <td>NaN</td>\n",
       "    </tr>\n",
       "    <tr>\n",
       "      <th>2014-09-30</th>\n",
       "      <td>1260544.0</td>\n",
       "      <td>NaN</td>\n",
       "      <td>858011.0</td>\n",
       "      <td>402533.0</td>\n",
       "      <td>NaN</td>\n",
       "    </tr>\n",
       "    <tr>\n",
       "      <th>2014-12-31</th>\n",
       "      <td>786641.0</td>\n",
       "      <td>NaN</td>\n",
       "      <td>1260544.0</td>\n",
       "      <td>-473903.0</td>\n",
       "      <td>NaN</td>\n",
       "    </tr>\n",
       "    <tr>\n",
       "      <th>2015-03-31</th>\n",
       "      <td>808013.0</td>\n",
       "      <td>NaN</td>\n",
       "      <td>786641.0</td>\n",
       "      <td>21372.0</td>\n",
       "      <td>NaN</td>\n",
       "    </tr>\n",
       "    <tr>\n",
       "      <th>2015-06-30</th>\n",
       "      <td>1195874.0</td>\n",
       "      <td>NaN</td>\n",
       "      <td>808013.0</td>\n",
       "      <td>387861.0</td>\n",
       "      <td>NaN</td>\n",
       "    </tr>\n",
       "    <tr>\n",
       "      <th>2015-09-30</th>\n",
       "      <td>1517170.0</td>\n",
       "      <td>NaN</td>\n",
       "      <td>1195874.0</td>\n",
       "      <td>321296.0</td>\n",
       "      <td>NaN</td>\n",
       "    </tr>\n",
       "    <tr>\n",
       "      <th>2015-12-31</th>\n",
       "      <td>944730.0</td>\n",
       "      <td>NaN</td>\n",
       "      <td>1517170.0</td>\n",
       "      <td>-572440.0</td>\n",
       "      <td>NaN</td>\n",
       "    </tr>\n",
       "    <tr>\n",
       "      <th>2016-03-31</th>\n",
       "      <td>953109.0</td>\n",
       "      <td>NaN</td>\n",
       "      <td>944730.0</td>\n",
       "      <td>8379.0</td>\n",
       "      <td>NaN</td>\n",
       "    </tr>\n",
       "    <tr>\n",
       "      <th>2016-06-30</th>\n",
       "      <td>1282791.0</td>\n",
       "      <td>NaN</td>\n",
       "      <td>953109.0</td>\n",
       "      <td>329682.0</td>\n",
       "      <td>NaN</td>\n",
       "    </tr>\n",
       "    <tr>\n",
       "      <th>2016-09-30</th>\n",
       "      <td>1788092.0</td>\n",
       "      <td>NaN</td>\n",
       "      <td>1282791.0</td>\n",
       "      <td>505301.0</td>\n",
       "      <td>NaN</td>\n",
       "    </tr>\n",
       "    <tr>\n",
       "      <th>2016-12-31</th>\n",
       "      <td>1130918.0</td>\n",
       "      <td>NaN</td>\n",
       "      <td>1788092.0</td>\n",
       "      <td>-657174.0</td>\n",
       "      <td>NaN</td>\n",
       "    </tr>\n",
       "    <tr>\n",
       "      <th>2017-03-31</th>\n",
       "      <td>1106201.0</td>\n",
       "      <td>NaN</td>\n",
       "      <td>1130918.0</td>\n",
       "      <td>-24717.0</td>\n",
       "      <td>NaN</td>\n",
       "    </tr>\n",
       "    <tr>\n",
       "      <th>2017-06-30</th>\n",
       "      <td>1514973.0</td>\n",
       "      <td>NaN</td>\n",
       "      <td>1106201.0</td>\n",
       "      <td>408772.0</td>\n",
       "      <td>NaN</td>\n",
       "    </tr>\n",
       "    <tr>\n",
       "      <th>2017-09-30</th>\n",
       "      <td>2067336.0</td>\n",
       "      <td>NaN</td>\n",
       "      <td>1514973.0</td>\n",
       "      <td>552363.0</td>\n",
       "      <td>NaN</td>\n",
       "    </tr>\n",
       "    <tr>\n",
       "      <th>2017-12-31</th>\n",
       "      <td>1303435.0</td>\n",
       "      <td>1303435.0</td>\n",
       "      <td>2067336.0</td>\n",
       "      <td>-763901.0</td>\n",
       "      <td>1303435.0</td>\n",
       "    </tr>\n",
       "    <tr>\n",
       "      <th>2018-03-31</th>\n",
       "      <td>NaN</td>\n",
       "      <td>1303435.0</td>\n",
       "      <td>1303435.0</td>\n",
       "      <td>-763901.0</td>\n",
       "      <td>539534.0</td>\n",
       "    </tr>\n",
       "    <tr>\n",
       "      <th>2018-06-30</th>\n",
       "      <td>NaN</td>\n",
       "      <td>1303435.0</td>\n",
       "      <td>NaN</td>\n",
       "      <td>-763901.0</td>\n",
       "      <td>-224367.0</td>\n",
       "    </tr>\n",
       "    <tr>\n",
       "      <th>2018-09-30</th>\n",
       "      <td>NaN</td>\n",
       "      <td>1303435.0</td>\n",
       "      <td>NaN</td>\n",
       "      <td>-763901.0</td>\n",
       "      <td>-988268.0</td>\n",
       "    </tr>\n",
       "    <tr>\n",
       "      <th>2018-12-31</th>\n",
       "      <td>NaN</td>\n",
       "      <td>1303435.0</td>\n",
       "      <td>NaN</td>\n",
       "      <td>-763901.0</td>\n",
       "      <td>-1752169.0</td>\n",
       "    </tr>\n",
       "  </tbody>\n",
       "</table>\n",
       "</div>"
      ],
      "text/plain": [
       "                  cnt  prevision_M1  cnt_shift    var AA  prevision_M2\n",
       "2011-03-31   217543.0           NaN        NaN       NaN           NaN\n",
       "2011-06-30   285236.0           NaN   217543.0   67693.0           NaN\n",
       "2011-09-30   466163.0           NaN   285236.0  180927.0           NaN\n",
       "2011-12-31   254159.0           NaN   466163.0 -212004.0           NaN\n",
       "2012-03-31   358675.0           NaN   254159.0  104516.0           NaN\n",
       "2012-06-30   476774.0           NaN   358675.0  118099.0           NaN\n",
       "2012-09-30   708591.0           NaN   476774.0  231817.0           NaN\n",
       "2012-12-31   445534.0           NaN   708591.0 -263057.0           NaN\n",
       "2013-03-31   503706.0           NaN   445534.0   58172.0           NaN\n",
       "2013-06-30   693602.0           NaN   503706.0  189896.0           NaN\n",
       "2013-09-30  1009371.0           NaN   693602.0  315769.0           NaN\n",
       "2013-12-31   601644.0           NaN  1009371.0 -407727.0           NaN\n",
       "2014-03-31   669587.0           NaN   601644.0   67943.0           NaN\n",
       "2014-06-30   858011.0           NaN   669587.0  188424.0           NaN\n",
       "2014-09-30  1260544.0           NaN   858011.0  402533.0           NaN\n",
       "2014-12-31   786641.0           NaN  1260544.0 -473903.0           NaN\n",
       "2015-03-31   808013.0           NaN   786641.0   21372.0           NaN\n",
       "2015-06-30  1195874.0           NaN   808013.0  387861.0           NaN\n",
       "2015-09-30  1517170.0           NaN  1195874.0  321296.0           NaN\n",
       "2015-12-31   944730.0           NaN  1517170.0 -572440.0           NaN\n",
       "2016-03-31   953109.0           NaN   944730.0    8379.0           NaN\n",
       "2016-06-30  1282791.0           NaN   953109.0  329682.0           NaN\n",
       "2016-09-30  1788092.0           NaN  1282791.0  505301.0           NaN\n",
       "2016-12-31  1130918.0           NaN  1788092.0 -657174.0           NaN\n",
       "2017-03-31  1106201.0           NaN  1130918.0  -24717.0           NaN\n",
       "2017-06-30  1514973.0           NaN  1106201.0  408772.0           NaN\n",
       "2017-09-30  2067336.0           NaN  1514973.0  552363.0           NaN\n",
       "2017-12-31  1303435.0     1303435.0  2067336.0 -763901.0     1303435.0\n",
       "2018-03-31        NaN     1303435.0  1303435.0 -763901.0      539534.0\n",
       "2018-06-30        NaN     1303435.0        NaN -763901.0     -224367.0\n",
       "2018-09-30        NaN     1303435.0        NaN -763901.0     -988268.0\n",
       "2018-12-31        NaN     1303435.0        NaN -763901.0    -1752169.0"
      ]
     },
     "execution_count": 14,
     "metadata": {},
     "output_type": "execute_result"
    }
   ],
   "source": [
    "## Rellenamos la variable con la variación, replicando el último valor hasta el final\n",
    "## ffill: propagate last valid observation forward to next valid backfill\n",
    "df_alquileres['var AA']=df_alquileres['var AA'].fillna(method='ffill')\n",
    "## Sumamos el acumulado de esa variación a la previsión que tenemos del modelo 1\n",
    "df_alquileres['prevision_M2'][-4:] = df_alquileres['var AA'][-4:].cumsum() +\\\n",
    "                                     df_alquileres['prevision_M1'][-4:]\n",
    "df_alquileres"
   ]
  },
  {
   "cell_type": "code",
   "execution_count": 15,
   "metadata": {},
   "outputs": [
    {
     "data": {
      "text/plain": [
       "<matplotlib.axes._subplots.AxesSubplot at 0x11f55c978>"
      ]
     },
     "execution_count": 15,
     "metadata": {},
     "output_type": "execute_result"
    },
    {
     "data": {
      "image/png": "[encoded data removed]",
      "text/plain": [
       "<Figure size 720x360 with 1 Axes>"
      ]
     },
     "metadata": {
      "needs_background": "light"
     },
     "output_type": "display_data"
    }
   ],
   "source": [
    "## Representamos el resultado\n",
    "df_alquileres.loc[:,['cnt','prevision_M1','prevision_M2']].plot(figsize=(10,5),\n",
    "                  title='¿Cuál es nuestra previsión? \\n')"
   ]
  },
  {
   "cell_type": "markdown",
   "metadata": {},
   "source": [
    "#### *P: ¿Si comparamos las previsiones del M1 y el M2 en qué se diferencian?*"
   ]
  },
  {
   "cell_type": "markdown",
   "metadata": {
    "collapsed": true
   },
   "source": [
    "En M2 se obtiene la predicción con la tendencia a la baja de la última parte de la señal temporal. \n",
    "En M1 esa tendencia no se consideraba"
   ]
  },
  {
   "cell_type": "markdown",
   "metadata": {},
   "source": [
    "### Modelo 3\n",
    "\n",
    "Utiliza este modelo para calcular la previsión y represéntala gráficamente.\n",
    "\n",
    "Mi previsión de alquileres = Media de TODOS los alquileres"
   ]
  },
  {
   "cell_type": "code",
   "execution_count": 16,
   "metadata": {},
   "outputs": [],
   "source": [
    "## Creamos un campo para nuestra previsión y lo rellenamos con Nan\n",
    "df_alquileres['prevision_M3'] = np.nan\n",
    "df_alquileres['prevision_M3'][-4:] = df_alquileres['cnt'].mean()\n",
    "df_alquileres['prevision_M3'][-5] = df_alquileres['cnt'][-5]"
   ]
  },
  {
   "cell_type": "code",
   "execution_count": 17,
   "metadata": {},
   "outputs": [
    {
     "data": {
      "text/plain": [
       "<matplotlib.axes._subplots.AxesSubplot at 0x11f73e9e8>"
      ]
     },
     "execution_count": 17,
     "metadata": {},
     "output_type": "execute_result"
    },
    {
     "data": {
      "image/png": "[encoded data removed]",
      "text/plain": [
       "<Figure size 720x360 with 1 Axes>"
      ]
     },
     "metadata": {
      "needs_background": "light"
     },
     "output_type": "display_data"
    }
   ],
   "source": [
    "## Representamos el resultado\n",
    "## Representamos el resultado\n",
    "df_alquileres.loc[:,['cnt','prevision_M1','prevision_M2', 'prevision_M3']].plot(figsize=(10,5),\n",
    "                  title='¿Cuál es nuestra previsión? \\n')"
   ]
  },
  {
   "cell_type": "markdown",
   "metadata": {},
   "source": [
    "#### *P: ¿Qué le ha pasado ahora a mi previsión para el M3?*"
   ]
  },
  {
   "cell_type": "markdown",
   "metadata": {
    "collapsed": true
   },
   "source": [
    "Se produce una representación del valor medio de la señal temporal, que es  un valor algo más bajo que la última parte de la serie"
   ]
  },
  {
   "cell_type": "markdown",
   "metadata": {},
   "source": [
    "#### *P: ¿Cómo podría mejorar mi previsión del M3?*"
   ]
  },
  {
   "cell_type": "markdown",
   "metadata": {
    "collapsed": true
   },
   "source": [
    "Teniendo en cuenta la estacionalidad y tendencia de la serie."
   ]
  },
  {
   "cell_type": "markdown",
   "metadata": {
    "collapsed": true
   },
   "source": [
    "#### *P: ¿Qué modelo elegirías el M1, el M2 o el M3? ¿Por qué?*"
   ]
  },
  {
   "cell_type": "markdown",
   "metadata": {
    "collapsed": true
   },
   "source": [
    "EL modelo M1 se podría ajustar más al comportamiento de la señal"
   ]
  },
  {
   "cell_type": "markdown",
   "metadata": {},
   "source": [
    "## 4. Predicciones mejoradas sobre la serie temporal"
   ]
  },
  {
   "cell_type": "markdown",
   "metadata": {},
   "source": [
    "Para realizar las predicciones vamos a eliminar primero las componentes de la serie temporal, de manera que calculemos nuestra previsión sobre el residuo."
   ]
  },
  {
   "cell_type": "markdown",
   "metadata": {},
   "source": [
    "### 4.1.-  Eliminar las componentes de la serie: estacionalidad y tendencia"
   ]
  },
  {
   "cell_type": "markdown",
   "metadata": {},
   "source": [
    "#### a) Elimina la estacionalidad y representa los resultados.\n",
    "\n",
    "##### *P: ¿Cómo podemos eliminar la estacionalidad? ¿Qué ventana móvil debemos usar? ¿Por qué?*"
   ]
  },
  {
   "cell_type": "markdown",
   "metadata": {
    "collapsed": true
   },
   "source": [
    "Debido a que la estacionalidad es anual, y nuestra predicción es cuatrimestral, con la ventana de movil 4 haremos los 4 cuatrimestres por año de media"
   ]
  },
  {
   "cell_type": "code",
   "execution_count": 18,
   "metadata": {},
   "outputs": [],
   "source": [
    "## Eliminamos la estacionalidad de la serie\n",
    "ventana = 4\n",
    "df_alquileres['cnt_mm4'] = df_alquileres['cnt'].rolling(ventana).mean()"
   ]
  },
  {
   "cell_type": "code",
   "execution_count": 19,
   "metadata": {},
   "outputs": [
    {
     "data": {
      "text/plain": [
       "<matplotlib.axes._subplots.AxesSubplot at 0x11f8fc780>"
      ]
     },
     "execution_count": 19,
     "metadata": {},
     "output_type": "execute_result"
    },
    {
     "data": {
      "image/png": "[encoded data removed]",
      "text/plain": [
       "<Figure size 720x360 with 1 Axes>"
      ]
     },
     "metadata": {
      "needs_background": "light"
     },
     "output_type": "display_data"
    }
   ],
   "source": [
    "## Representamos el resultado\n",
    "df_alquileres.loc[:,['cnt', 'cnt_mm4']].plot(figsize=(10,5),\n",
    "                  title='¿Cuál es nuestra previsión? \\n')"
   ]
  },
  {
   "cell_type": "code",
   "execution_count": 20,
   "metadata": {},
   "outputs": [
    {
     "data": {
      "text/plain": [
       "array([<matplotlib.axes._subplots.AxesSubplot object at 0x11fa68c88>,\n",
       "       <matplotlib.axes._subplots.AxesSubplot object at 0x11facf978>],\n",
       "      dtype=object)"
      ]
     },
     "execution_count": 20,
     "metadata": {},
     "output_type": "execute_result"
    },
    {
     "data": {
      "image/png": "[encoded data removed]",
      "text/plain": [
       "<Figure size 720x360 with 2 Axes>"
      ]
     },
     "metadata": {
      "needs_background": "light"
     },
     "output_type": "display_data"
    }
   ],
   "source": [
    "## Representamos el resultado\n",
    "df_alquileres.loc[:,['cnt', 'cnt_mm4']].plot(figsize=(10,5), subplots = True,\n",
    "                  title='¿Cuál es nuestra previsión? \\n')"
   ]
  },
  {
   "cell_type": "markdown",
   "metadata": {},
   "source": [
    "#### b) Elimina la tendencia y representa los resultados.\n",
    "\n",
    "##### *P: ¿Cómo podemos eliminar la tendencia?*"
   ]
  },
  {
   "cell_type": "code",
   "execution_count": 21,
   "metadata": {},
   "outputs": [],
   "source": [
    "## Eliminamos la tendencia\n",
    "df_alquileres['cnt_mm4_st'] = df_alquileres['cnt_mm4'] - df_alquileres['cnt_mm4'].shift(1)"
   ]
  },
  {
   "cell_type": "code",
   "execution_count": 22,
   "metadata": {},
   "outputs": [
    {
     "data": {
      "text/plain": [
       "array([<matplotlib.axes._subplots.AxesSubplot object at 0x11fcb8e10>,\n",
       "       <matplotlib.axes._subplots.AxesSubplot object at 0x11fde63c8>],\n",
       "      dtype=object)"
      ]
     },
     "execution_count": 22,
     "metadata": {},
     "output_type": "execute_result"
    },
    {
     "data": {
      "image/png": "[encoded data removed]",
      "text/plain": [
       "<Figure size 720x360 with 2 Axes>"
      ]
     },
     "metadata": {
      "needs_background": "light"
     },
     "output_type": "display_data"
    }
   ],
   "source": [
    "## Representamos el resultado\n",
    "df_alquileres.loc[:,['cnt', 'cnt_mm4_st']].plot(figsize=(10,5), subplots = True,\n",
    "                  title='¿Cuál es nuestra previsión? \\n')"
   ]
  },
  {
   "cell_type": "markdown",
   "metadata": {},
   "source": [
    "### 4.2.-  Realizar la previsión"
   ]
  },
  {
   "cell_type": "markdown",
   "metadata": {},
   "source": [
    "Realiza la previsión sobre la componente aleatoria. Utiliza alguno de los modelos que hemos visto y representa los resultados."
   ]
  },
  {
   "cell_type": "code",
   "execution_count": 23,
   "metadata": {},
   "outputs": [],
   "source": [
    "## Creamos un campo para nuestra previsión y lo rellenamos con Nan\n",
    "df_alquileres['prevision_M3b'] = np.nan\n",
    "df_alquileres['prevision_M3b'][-4:] = df_alquileres['cnt_mm4_st'].mean()\n",
    "df_alquileres['prevision_M3b'][-5] = df_alquileres['cnt'][-5]"
   ]
  },
  {
   "cell_type": "code",
   "execution_count": 24,
   "metadata": {},
   "outputs": [
    {
     "data": {
      "text/plain": [
       "<matplotlib.axes._subplots.AxesSubplot at 0x11fefce10>"
      ]
     },
     "execution_count": 24,
     "metadata": {},
     "output_type": "execute_result"
    },
    {
     "data": {
      "image/png": "[encoded data removed]",
      "text/plain": [
       "<Figure size 720x360 with 1 Axes>"
      ]
     },
     "metadata": {
      "needs_background": "light"
     },
     "output_type": "display_data"
    }
   ],
   "source": [
    "## Representamos nuestra previsión\n",
    "df_alquileres.loc[:,['cnt','prevision_M3b']].plot(figsize=(10,5),\n",
    "                  title='¿Cuál es nuestra previsión? \\n')"
   ]
  },
  {
   "cell_type": "markdown",
   "metadata": {},
   "source": [
    "\n",
    "#### *P: Esta previsión, ¿qué significa? ¿cómo lo puedo convertir en un número que se parezca a mis alquileres?*"
   ]
  },
  {
   "cell_type": "markdown",
   "metadata": {
    "collapsed": true
   },
   "source": [
    "Es la media sin tendencia y habría que aãdirle la estacionalidad y tendencia a la parte aleatoria"
   ]
  },
  {
   "cell_type": "markdown",
   "metadata": {},
   "source": [
    "### 4.3.-  Incorporar las componentes de la serie: estacionalidad y tendencia\n",
    "\n",
    "#### a) Incorpora la tendencia a la previsión de alquileres y representa los resultados."
   ]
  },
  {
   "cell_type": "code",
   "execution_count": 25,
   "metadata": {},
   "outputs": [
    {
     "data": {
      "text/html": [
       "<div>\n",
       "<style scoped>\n",
       "    .dataframe tbody tr th:only-of-type {\n",
       "        vertical-align: middle;\n",
       "    }\n",
       "\n",
       "    .dataframe tbody tr th {\n",
       "        vertical-align: top;\n",
       "    }\n",
       "\n",
       "    .dataframe thead th {\n",
       "        text-align: right;\n",
       "    }\n",
       "</style>\n",
       "<table border=\"1\" class=\"dataframe\">\n",
       "  <thead>\n",
       "    <tr style=\"text-align: right;\">\n",
       "      <th></th>\n",
       "      <th>cnt</th>\n",
       "      <th>prevision_M1</th>\n",
       "      <th>cnt_shift</th>\n",
       "      <th>var AA</th>\n",
       "      <th>prevision_M2</th>\n",
       "      <th>prevision_M3</th>\n",
       "      <th>cnt_mm4</th>\n",
       "      <th>cnt_mm4_st</th>\n",
       "      <th>prevision_M3b</th>\n",
       "      <th>prevision_M3b_ct</th>\n",
       "    </tr>\n",
       "  </thead>\n",
       "  <tbody>\n",
       "    <tr>\n",
       "      <th>2011-03-31</th>\n",
       "      <td>217543.0</td>\n",
       "      <td>NaN</td>\n",
       "      <td>NaN</td>\n",
       "      <td>NaN</td>\n",
       "      <td>NaN</td>\n",
       "      <td>NaN</td>\n",
       "      <td>NaN</td>\n",
       "      <td>NaN</td>\n",
       "      <td>NaN</td>\n",
       "      <td>NaN</td>\n",
       "    </tr>\n",
       "    <tr>\n",
       "      <th>2011-06-30</th>\n",
       "      <td>285236.0</td>\n",
       "      <td>NaN</td>\n",
       "      <td>217543.0</td>\n",
       "      <td>67693.0</td>\n",
       "      <td>NaN</td>\n",
       "      <td>NaN</td>\n",
       "      <td>NaN</td>\n",
       "      <td>NaN</td>\n",
       "      <td>NaN</td>\n",
       "      <td>NaN</td>\n",
       "    </tr>\n",
       "    <tr>\n",
       "      <th>2011-09-30</th>\n",
       "      <td>466163.0</td>\n",
       "      <td>NaN</td>\n",
       "      <td>285236.0</td>\n",
       "      <td>180927.0</td>\n",
       "      <td>NaN</td>\n",
       "      <td>NaN</td>\n",
       "      <td>NaN</td>\n",
       "      <td>NaN</td>\n",
       "      <td>NaN</td>\n",
       "      <td>NaN</td>\n",
       "    </tr>\n",
       "    <tr>\n",
       "      <th>2011-12-31</th>\n",
       "      <td>254159.0</td>\n",
       "      <td>NaN</td>\n",
       "      <td>466163.0</td>\n",
       "      <td>-212004.0</td>\n",
       "      <td>NaN</td>\n",
       "      <td>NaN</td>\n",
       "      <td>305775.25</td>\n",
       "      <td>NaN</td>\n",
       "      <td>NaN</td>\n",
       "      <td>NaN</td>\n",
       "    </tr>\n",
       "    <tr>\n",
       "      <th>2012-03-31</th>\n",
       "      <td>358675.0</td>\n",
       "      <td>NaN</td>\n",
       "      <td>254159.0</td>\n",
       "      <td>104516.0</td>\n",
       "      <td>NaN</td>\n",
       "      <td>NaN</td>\n",
       "      <td>341058.25</td>\n",
       "      <td>35283.00</td>\n",
       "      <td>NaN</td>\n",
       "      <td>NaN</td>\n",
       "    </tr>\n",
       "    <tr>\n",
       "      <th>2012-06-30</th>\n",
       "      <td>476774.0</td>\n",
       "      <td>NaN</td>\n",
       "      <td>358675.0</td>\n",
       "      <td>118099.0</td>\n",
       "      <td>NaN</td>\n",
       "      <td>NaN</td>\n",
       "      <td>388942.75</td>\n",
       "      <td>47884.50</td>\n",
       "      <td>NaN</td>\n",
       "      <td>NaN</td>\n",
       "    </tr>\n",
       "    <tr>\n",
       "      <th>2012-09-30</th>\n",
       "      <td>708591.0</td>\n",
       "      <td>NaN</td>\n",
       "      <td>476774.0</td>\n",
       "      <td>231817.0</td>\n",
       "      <td>NaN</td>\n",
       "      <td>NaN</td>\n",
       "      <td>449549.75</td>\n",
       "      <td>60607.00</td>\n",
       "      <td>NaN</td>\n",
       "      <td>NaN</td>\n",
       "    </tr>\n",
       "    <tr>\n",
       "      <th>2012-12-31</th>\n",
       "      <td>445534.0</td>\n",
       "      <td>NaN</td>\n",
       "      <td>708591.0</td>\n",
       "      <td>-263057.0</td>\n",
       "      <td>NaN</td>\n",
       "      <td>NaN</td>\n",
       "      <td>497393.50</td>\n",
       "      <td>47843.75</td>\n",
       "      <td>NaN</td>\n",
       "      <td>NaN</td>\n",
       "    </tr>\n",
       "    <tr>\n",
       "      <th>2013-03-31</th>\n",
       "      <td>503706.0</td>\n",
       "      <td>NaN</td>\n",
       "      <td>445534.0</td>\n",
       "      <td>58172.0</td>\n",
       "      <td>NaN</td>\n",
       "      <td>NaN</td>\n",
       "      <td>533651.25</td>\n",
       "      <td>36257.75</td>\n",
       "      <td>NaN</td>\n",
       "      <td>NaN</td>\n",
       "    </tr>\n",
       "    <tr>\n",
       "      <th>2013-06-30</th>\n",
       "      <td>693602.0</td>\n",
       "      <td>NaN</td>\n",
       "      <td>503706.0</td>\n",
       "      <td>189896.0</td>\n",
       "      <td>NaN</td>\n",
       "      <td>NaN</td>\n",
       "      <td>587858.25</td>\n",
       "      <td>54207.00</td>\n",
       "      <td>NaN</td>\n",
       "      <td>NaN</td>\n",
       "    </tr>\n",
       "    <tr>\n",
       "      <th>2013-09-30</th>\n",
       "      <td>1009371.0</td>\n",
       "      <td>NaN</td>\n",
       "      <td>693602.0</td>\n",
       "      <td>315769.0</td>\n",
       "      <td>NaN</td>\n",
       "      <td>NaN</td>\n",
       "      <td>663053.25</td>\n",
       "      <td>75195.00</td>\n",
       "      <td>NaN</td>\n",
       "      <td>NaN</td>\n",
       "    </tr>\n",
       "    <tr>\n",
       "      <th>2013-12-31</th>\n",
       "      <td>601644.0</td>\n",
       "      <td>NaN</td>\n",
       "      <td>1009371.0</td>\n",
       "      <td>-407727.0</td>\n",
       "      <td>NaN</td>\n",
       "      <td>NaN</td>\n",
       "      <td>702080.75</td>\n",
       "      <td>39027.50</td>\n",
       "      <td>NaN</td>\n",
       "      <td>NaN</td>\n",
       "    </tr>\n",
       "    <tr>\n",
       "      <th>2014-03-31</th>\n",
       "      <td>669587.0</td>\n",
       "      <td>NaN</td>\n",
       "      <td>601644.0</td>\n",
       "      <td>67943.0</td>\n",
       "      <td>NaN</td>\n",
       "      <td>NaN</td>\n",
       "      <td>743551.00</td>\n",
       "      <td>41470.25</td>\n",
       "      <td>NaN</td>\n",
       "      <td>NaN</td>\n",
       "    </tr>\n",
       "    <tr>\n",
       "      <th>2014-06-30</th>\n",
       "      <td>858011.0</td>\n",
       "      <td>NaN</td>\n",
       "      <td>669587.0</td>\n",
       "      <td>188424.0</td>\n",
       "      <td>NaN</td>\n",
       "      <td>NaN</td>\n",
       "      <td>784653.25</td>\n",
       "      <td>41102.25</td>\n",
       "      <td>NaN</td>\n",
       "      <td>NaN</td>\n",
       "    </tr>\n",
       "    <tr>\n",
       "      <th>2014-09-30</th>\n",
       "      <td>1260544.0</td>\n",
       "      <td>NaN</td>\n",
       "      <td>858011.0</td>\n",
       "      <td>402533.0</td>\n",
       "      <td>NaN</td>\n",
       "      <td>NaN</td>\n",
       "      <td>847446.50</td>\n",
       "      <td>62793.25</td>\n",
       "      <td>NaN</td>\n",
       "      <td>NaN</td>\n",
       "    </tr>\n",
       "    <tr>\n",
       "      <th>2014-12-31</th>\n",
       "      <td>786641.0</td>\n",
       "      <td>NaN</td>\n",
       "      <td>1260544.0</td>\n",
       "      <td>-473903.0</td>\n",
       "      <td>NaN</td>\n",
       "      <td>NaN</td>\n",
       "      <td>893695.75</td>\n",
       "      <td>46249.25</td>\n",
       "      <td>NaN</td>\n",
       "      <td>NaN</td>\n",
       "    </tr>\n",
       "    <tr>\n",
       "      <th>2015-03-31</th>\n",
       "      <td>808013.0</td>\n",
       "      <td>NaN</td>\n",
       "      <td>786641.0</td>\n",
       "      <td>21372.0</td>\n",
       "      <td>NaN</td>\n",
       "      <td>NaN</td>\n",
       "      <td>928302.25</td>\n",
       "      <td>34606.50</td>\n",
       "      <td>NaN</td>\n",
       "      <td>NaN</td>\n",
       "    </tr>\n",
       "    <tr>\n",
       "      <th>2015-06-30</th>\n",
       "      <td>1195874.0</td>\n",
       "      <td>NaN</td>\n",
       "      <td>808013.0</td>\n",
       "      <td>387861.0</td>\n",
       "      <td>NaN</td>\n",
       "      <td>NaN</td>\n",
       "      <td>1012768.00</td>\n",
       "      <td>84465.75</td>\n",
       "      <td>NaN</td>\n",
       "      <td>NaN</td>\n",
       "    </tr>\n",
       "    <tr>\n",
       "      <th>2015-09-30</th>\n",
       "      <td>1517170.0</td>\n",
       "      <td>NaN</td>\n",
       "      <td>1195874.0</td>\n",
       "      <td>321296.0</td>\n",
       "      <td>NaN</td>\n",
       "      <td>NaN</td>\n",
       "      <td>1076924.50</td>\n",
       "      <td>64156.50</td>\n",
       "      <td>NaN</td>\n",
       "      <td>NaN</td>\n",
       "    </tr>\n",
       "    <tr>\n",
       "      <th>2015-12-31</th>\n",
       "      <td>944730.0</td>\n",
       "      <td>NaN</td>\n",
       "      <td>1517170.0</td>\n",
       "      <td>-572440.0</td>\n",
       "      <td>NaN</td>\n",
       "      <td>NaN</td>\n",
       "      <td>1116446.75</td>\n",
       "      <td>39522.25</td>\n",
       "      <td>NaN</td>\n",
       "      <td>NaN</td>\n",
       "    </tr>\n",
       "    <tr>\n",
       "      <th>2016-03-31</th>\n",
       "      <td>953109.0</td>\n",
       "      <td>NaN</td>\n",
       "      <td>944730.0</td>\n",
       "      <td>8379.0</td>\n",
       "      <td>NaN</td>\n",
       "      <td>NaN</td>\n",
       "      <td>1152720.75</td>\n",
       "      <td>36274.00</td>\n",
       "      <td>NaN</td>\n",
       "      <td>NaN</td>\n",
       "    </tr>\n",
       "    <tr>\n",
       "      <th>2016-06-30</th>\n",
       "      <td>1282791.0</td>\n",
       "      <td>NaN</td>\n",
       "      <td>953109.0</td>\n",
       "      <td>329682.0</td>\n",
       "      <td>NaN</td>\n",
       "      <td>NaN</td>\n",
       "      <td>1174450.00</td>\n",
       "      <td>21729.25</td>\n",
       "      <td>NaN</td>\n",
       "      <td>NaN</td>\n",
       "    </tr>\n",
       "    <tr>\n",
       "      <th>2016-09-30</th>\n",
       "      <td>1788092.0</td>\n",
       "      <td>NaN</td>\n",
       "      <td>1282791.0</td>\n",
       "      <td>505301.0</td>\n",
       "      <td>NaN</td>\n",
       "      <td>NaN</td>\n",
       "      <td>1242180.50</td>\n",
       "      <td>67730.50</td>\n",
       "      <td>NaN</td>\n",
       "      <td>NaN</td>\n",
       "    </tr>\n",
       "    <tr>\n",
       "      <th>2016-12-31</th>\n",
       "      <td>1130918.0</td>\n",
       "      <td>NaN</td>\n",
       "      <td>1788092.0</td>\n",
       "      <td>-657174.0</td>\n",
       "      <td>NaN</td>\n",
       "      <td>NaN</td>\n",
       "      <td>1288727.50</td>\n",
       "      <td>46547.00</td>\n",
       "      <td>NaN</td>\n",
       "      <td>NaN</td>\n",
       "    </tr>\n",
       "    <tr>\n",
       "      <th>2017-03-31</th>\n",
       "      <td>1106201.0</td>\n",
       "      <td>NaN</td>\n",
       "      <td>1130918.0</td>\n",
       "      <td>-24717.0</td>\n",
       "      <td>NaN</td>\n",
       "      <td>NaN</td>\n",
       "      <td>1327000.50</td>\n",
       "      <td>38273.00</td>\n",
       "      <td>NaN</td>\n",
       "      <td>NaN</td>\n",
       "    </tr>\n",
       "    <tr>\n",
       "      <th>2017-06-30</th>\n",
       "      <td>1514973.0</td>\n",
       "      <td>NaN</td>\n",
       "      <td>1106201.0</td>\n",
       "      <td>408772.0</td>\n",
       "      <td>NaN</td>\n",
       "      <td>NaN</td>\n",
       "      <td>1385046.00</td>\n",
       "      <td>58045.50</td>\n",
       "      <td>NaN</td>\n",
       "      <td>NaN</td>\n",
       "    </tr>\n",
       "    <tr>\n",
       "      <th>2017-09-30</th>\n",
       "      <td>2067336.0</td>\n",
       "      <td>NaN</td>\n",
       "      <td>1514973.0</td>\n",
       "      <td>552363.0</td>\n",
       "      <td>NaN</td>\n",
       "      <td>NaN</td>\n",
       "      <td>1454857.00</td>\n",
       "      <td>69811.00</td>\n",
       "      <td>NaN</td>\n",
       "      <td>NaN</td>\n",
       "    </tr>\n",
       "    <tr>\n",
       "      <th>2017-12-31</th>\n",
       "      <td>1303435.0</td>\n",
       "      <td>1303435.0</td>\n",
       "      <td>2067336.0</td>\n",
       "      <td>-763901.0</td>\n",
       "      <td>1303435.0</td>\n",
       "      <td>1.303435e+06</td>\n",
       "      <td>1497986.25</td>\n",
       "      <td>43129.25</td>\n",
       "      <td>1.303435e+06</td>\n",
       "      <td>1.303435e+06</td>\n",
       "    </tr>\n",
       "    <tr>\n",
       "      <th>2018-03-31</th>\n",
       "      <td>NaN</td>\n",
       "      <td>1303435.0</td>\n",
       "      <td>1303435.0</td>\n",
       "      <td>-763901.0</td>\n",
       "      <td>539534.0</td>\n",
       "      <td>9.003008e+05</td>\n",
       "      <td>1497986.25</td>\n",
       "      <td>NaN</td>\n",
       "      <td>4.967546e+04</td>\n",
       "      <td>1.547662e+06</td>\n",
       "    </tr>\n",
       "    <tr>\n",
       "      <th>2018-06-30</th>\n",
       "      <td>NaN</td>\n",
       "      <td>1303435.0</td>\n",
       "      <td>NaN</td>\n",
       "      <td>-763901.0</td>\n",
       "      <td>-224367.0</td>\n",
       "      <td>9.003008e+05</td>\n",
       "      <td>1497986.25</td>\n",
       "      <td>NaN</td>\n",
       "      <td>4.967546e+04</td>\n",
       "      <td>1.597337e+06</td>\n",
       "    </tr>\n",
       "    <tr>\n",
       "      <th>2018-09-30</th>\n",
       "      <td>NaN</td>\n",
       "      <td>1303435.0</td>\n",
       "      <td>NaN</td>\n",
       "      <td>-763901.0</td>\n",
       "      <td>-988268.0</td>\n",
       "      <td>9.003008e+05</td>\n",
       "      <td>1497986.25</td>\n",
       "      <td>NaN</td>\n",
       "      <td>4.967546e+04</td>\n",
       "      <td>1.647013e+06</td>\n",
       "    </tr>\n",
       "    <tr>\n",
       "      <th>2018-12-31</th>\n",
       "      <td>NaN</td>\n",
       "      <td>1303435.0</td>\n",
       "      <td>NaN</td>\n",
       "      <td>-763901.0</td>\n",
       "      <td>-1752169.0</td>\n",
       "      <td>9.003008e+05</td>\n",
       "      <td>1497986.25</td>\n",
       "      <td>NaN</td>\n",
       "      <td>4.967546e+04</td>\n",
       "      <td>1.696688e+06</td>\n",
       "    </tr>\n",
       "  </tbody>\n",
       "</table>\n",
       "</div>"
      ],
      "text/plain": [
       "                  cnt  prevision_M1  cnt_shift    var AA  prevision_M2  \\\n",
       "2011-03-31   217543.0           NaN        NaN       NaN           NaN   \n",
       "2011-06-30   285236.0           NaN   217543.0   67693.0           NaN   \n",
       "2011-09-30   466163.0           NaN   285236.0  180927.0           NaN   \n",
       "2011-12-31   254159.0           NaN   466163.0 -212004.0           NaN   \n",
       "2012-03-31   358675.0           NaN   254159.0  104516.0           NaN   \n",
       "2012-06-30   476774.0           NaN   358675.0  118099.0           NaN   \n",
       "2012-09-30   708591.0           NaN   476774.0  231817.0           NaN   \n",
       "2012-12-31   445534.0           NaN   708591.0 -263057.0           NaN   \n",
       "2013-03-31   503706.0           NaN   445534.0   58172.0           NaN   \n",
       "2013-06-30   693602.0           NaN   503706.0  189896.0           NaN   \n",
       "2013-09-30  1009371.0           NaN   693602.0  315769.0           NaN   \n",
       "2013-12-31   601644.0           NaN  1009371.0 -407727.0           NaN   \n",
       "2014-03-31   669587.0           NaN   601644.0   67943.0           NaN   \n",
       "2014-06-30   858011.0           NaN   669587.0  188424.0           NaN   \n",
       "2014-09-30  1260544.0           NaN   858011.0  402533.0           NaN   \n",
       "2014-12-31   786641.0           NaN  1260544.0 -473903.0           NaN   \n",
       "2015-03-31   808013.0           NaN   786641.0   21372.0           NaN   \n",
       "2015-06-30  1195874.0           NaN   808013.0  387861.0           NaN   \n",
       "2015-09-30  1517170.0           NaN  1195874.0  321296.0           NaN   \n",
       "2015-12-31   944730.0           NaN  1517170.0 -572440.0           NaN   \n",
       "2016-03-31   953109.0           NaN   944730.0    8379.0           NaN   \n",
       "2016-06-30  1282791.0           NaN   953109.0  329682.0           NaN   \n",
       "2016-09-30  1788092.0           NaN  1282791.0  505301.0           NaN   \n",
       "2016-12-31  1130918.0           NaN  1788092.0 -657174.0           NaN   \n",
       "2017-03-31  1106201.0           NaN  1130918.0  -24717.0           NaN   \n",
       "2017-06-30  1514973.0           NaN  1106201.0  408772.0           NaN   \n",
       "2017-09-30  2067336.0           NaN  1514973.0  552363.0           NaN   \n",
       "2017-12-31  1303435.0     1303435.0  2067336.0 -763901.0     1303435.0   \n",
       "2018-03-31        NaN     1303435.0  1303435.0 -763901.0      539534.0   \n",
       "2018-06-30        NaN     1303435.0        NaN -763901.0     -224367.0   \n",
       "2018-09-30        NaN     1303435.0        NaN -763901.0     -988268.0   \n",
       "2018-12-31        NaN     1303435.0        NaN -763901.0    -1752169.0   \n",
       "\n",
       "            prevision_M3     cnt_mm4  cnt_mm4_st  prevision_M3b  \\\n",
       "2011-03-31           NaN         NaN         NaN            NaN   \n",
       "2011-06-30           NaN         NaN         NaN            NaN   \n",
       "2011-09-30           NaN         NaN         NaN            NaN   \n",
       "2011-12-31           NaN   305775.25         NaN            NaN   \n",
       "2012-03-31           NaN   341058.25    35283.00            NaN   \n",
       "2012-06-30           NaN   388942.75    47884.50            NaN   \n",
       "2012-09-30           NaN   449549.75    60607.00            NaN   \n",
       "2012-12-31           NaN   497393.50    47843.75            NaN   \n",
       "2013-03-31           NaN   533651.25    36257.75            NaN   \n",
       "2013-06-30           NaN   587858.25    54207.00            NaN   \n",
       "2013-09-30           NaN   663053.25    75195.00            NaN   \n",
       "2013-12-31           NaN   702080.75    39027.50            NaN   \n",
       "2014-03-31           NaN   743551.00    41470.25            NaN   \n",
       "2014-06-30           NaN   784653.25    41102.25            NaN   \n",
       "2014-09-30           NaN   847446.50    62793.25            NaN   \n",
       "2014-12-31           NaN   893695.75    46249.25            NaN   \n",
       "2015-03-31           NaN   928302.25    34606.50            NaN   \n",
       "2015-06-30           NaN  1012768.00    84465.75            NaN   \n",
       "2015-09-30           NaN  1076924.50    64156.50            NaN   \n",
       "2015-12-31           NaN  1116446.75    39522.25            NaN   \n",
       "2016-03-31           NaN  1152720.75    36274.00            NaN   \n",
       "2016-06-30           NaN  1174450.00    21729.25            NaN   \n",
       "2016-09-30           NaN  1242180.50    67730.50            NaN   \n",
       "2016-12-31           NaN  1288727.50    46547.00            NaN   \n",
       "2017-03-31           NaN  1327000.50    38273.00            NaN   \n",
       "2017-06-30           NaN  1385046.00    58045.50            NaN   \n",
       "2017-09-30           NaN  1454857.00    69811.00            NaN   \n",
       "2017-12-31  1.303435e+06  1497986.25    43129.25   1.303435e+06   \n",
       "2018-03-31  9.003008e+05  1497986.25         NaN   4.967546e+04   \n",
       "2018-06-30  9.003008e+05  1497986.25         NaN   4.967546e+04   \n",
       "2018-09-30  9.003008e+05  1497986.25         NaN   4.967546e+04   \n",
       "2018-12-31  9.003008e+05  1497986.25         NaN   4.967546e+04   \n",
       "\n",
       "            prevision_M3b_ct  \n",
       "2011-03-31               NaN  \n",
       "2011-06-30               NaN  \n",
       "2011-09-30               NaN  \n",
       "2011-12-31               NaN  \n",
       "2012-03-31               NaN  \n",
       "2012-06-30               NaN  \n",
       "2012-09-30               NaN  \n",
       "2012-12-31               NaN  \n",
       "2013-03-31               NaN  \n",
       "2013-06-30               NaN  \n",
       "2013-09-30               NaN  \n",
       "2013-12-31               NaN  \n",
       "2014-03-31               NaN  \n",
       "2014-06-30               NaN  \n",
       "2014-09-30               NaN  \n",
       "2014-12-31               NaN  \n",
       "2015-03-31               NaN  \n",
       "2015-06-30               NaN  \n",
       "2015-09-30               NaN  \n",
       "2015-12-31               NaN  \n",
       "2016-03-31               NaN  \n",
       "2016-06-30               NaN  \n",
       "2016-09-30               NaN  \n",
       "2016-12-31               NaN  \n",
       "2017-03-31               NaN  \n",
       "2017-06-30               NaN  \n",
       "2017-09-30               NaN  \n",
       "2017-12-31      1.303435e+06  \n",
       "2018-03-31      1.547662e+06  \n",
       "2018-06-30      1.597337e+06  \n",
       "2018-09-30      1.647013e+06  \n",
       "2018-12-31      1.696688e+06  "
      ]
     },
     "execution_count": 25,
     "metadata": {},
     "output_type": "execute_result"
    }
   ],
   "source": [
    "## Creamos un campo para nuestra previsión y lo rellenamos con Nan \n",
    "df_alquileres['prevision_M3b_ct']=np.nan\n",
    "## ffill: propagate last valid observation forward to next valid backfill\n",
    "df_alquileres['cnt_mm4']=df_alquileres['cnt_mm4'].fillna(method='ffill')\n",
    "## Toma la variación de la serie sin estacionalidad\n",
    "## Sumamos el acumulado de la previsión a nuestra serie con tendencia\n",
    "df_alquileres['prevision_M3b_ct'][-5] = df_alquileres['cnt'][-5]\n",
    "df_alquileres['prevision_M3b_ct'][-4:] = df_alquileres['prevision_M3b'][-4:].cumsum()\\\n",
    "                                      + df_alquileres['cnt_mm4'][-4:]\n",
    "df_alquileres"
   ]
  },
  {
   "cell_type": "code",
   "execution_count": null,
   "metadata": {},
   "outputs": [],
   "source": []
  },
  {
   "cell_type": "code",
   "execution_count": 26,
   "metadata": {},
   "outputs": [
    {
     "data": {
      "text/plain": [
       "<matplotlib.axes._subplots.AxesSubplot at 0x1200ba278>"
      ]
     },
     "execution_count": 26,
     "metadata": {},
     "output_type": "execute_result"
    },
    {
     "data": {
      "image/png": "[encoded data removed]",
      "text/plain": [
       "<Figure size 720x360 with 1 Axes>"
      ]
     },
     "metadata": {
      "needs_background": "light"
     },
     "output_type": "display_data"
    }
   ],
   "source": [
    "## Representamos nuestra previsión\n",
    "df_alquileres.loc[:,['cnt','prevision_M3b_ct']].plot(figsize=(10,5),\n",
    "                                                     title='¿Cuál es nuestra previsión final? \\n')"
   ]
  },
  {
   "cell_type": "markdown",
   "metadata": {},
   "source": [
    "#### b) Incorpora la estacionalidad a la previsión de alquileres y representa los resultados."
   ]
  },
  {
   "cell_type": "markdown",
   "metadata": {},
   "source": [
    "Una forma sencilla sería calcular los coeficientes de estacionalidad vs la serie de media móvil y aplicar los últimos coeficientes ( o una media, ...) a mis previsiones para incorporar la estacionalidad."
   ]
  },
  {
   "cell_type": "code",
   "execution_count": 27,
   "metadata": {},
   "outputs": [],
   "source": [
    "df_alquileres['cnt_media_movil_4']=df_alquileres['cnt'].rolling(4).mean()"
   ]
  },
  {
   "cell_type": "code",
   "execution_count": 28,
   "metadata": {},
   "outputs": [],
   "source": [
    "## Calculamos los coeficientes de estacionalidad\n",
    "df_alquileres['coef_estac']=df_alquileres['cnt'] \\\n",
    "                                                /df_alquileres['cnt_media_movil_4']"
   ]
  },
  {
   "cell_type": "code",
   "execution_count": 29,
   "metadata": {},
   "outputs": [],
   "source": [
    "## Aplicamos los coeficientes de estacionalidad sobre nuestra previsión con tendencia\n",
    "## Como queremos la previsión para 4 trimestres, desplazamos esos coeficientes y los multiplicamos por \n",
    "## el valor de la previsión con tendencia\n",
    "df_alquileres['prevision_M3b_ct_cs'] = df_alquileres['prevision_M3b_ct']  \\\n",
    "                                     * df_alquileres['coef_estac'].shift(4)\n",
    "df_alquileres['prevision_M3b_ct_cs'][-5] = df_alquileres['cnt'][-5]"
   ]
  },
  {
   "cell_type": "code",
   "execution_count": 30,
   "metadata": {},
   "outputs": [
    {
     "data": {
      "text/plain": [
       "<matplotlib.axes._subplots.AxesSubplot at 0x1202614a8>"
      ]
     },
     "execution_count": 30,
     "metadata": {},
     "output_type": "execute_result"
    },
    {
     "data": {
      "image/png": "[encoded data removed]",
      "text/plain": [
       "<Figure size 720x360 with 1 Axes>"
      ]
     },
     "metadata": {
      "needs_background": "light"
     },
     "output_type": "display_data"
    }
   ],
   "source": [
    "## Representamos nuestra previsión\n",
    "df_alquileres.loc[:,['cnt','prevision_M3b_ct_cs']].plot(figsize=(10,5),\n",
    "                                                     title='¿Cuál es nuestra previsión final? \\n')\n",
    "\n"
   ]
  }
 ],
 "metadata": {
  "anaconda-cloud": {},
  "kernelspec": {
   "display_name": "Python 3",
   "language": "python",
   "name": "python3"
  },
  "language_info": {
   "codemirror_mode": {
    "name": "ipython",
    "version": 3
   },
   "file_extension": ".py",
   "mimetype": "text/x-python",
   "name": "python",
   "nbconvert_exporter": "python",
   "pygments_lexer": "ipython3",
   "version": "3.7.2"
  },
  "widgets": {
   "state": {},
   "version": "1.1.2"
  }
 },
 "nbformat": 4,
 "nbformat_minor": 2
}
