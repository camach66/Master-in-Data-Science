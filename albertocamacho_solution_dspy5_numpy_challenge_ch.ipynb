{
 "cells": [
  {
   "cell_type": "markdown",
   "metadata": {},
   "source": [
    "Antes de entregar el challenge, comprueba que todo funciona como esperas. Para ello reinicia el kernel y ejecuta el notebook desde el principio: (Kernel$\\rightarrow$Restart) y luego **run all cells** (en el menu, selecciona Cell$\\rightarrow$Run All).\n",
    "\n",
    "**Recuerda que es muy importante que guardes el worksheet con el nombre correcto**: `<nombre y apellido sin espacio>_solution_<titulo del notebook>`.\n",
    "\n",
    "Por ejemplo, para un notebook `pf2_python_basics_ch.ipynb`, la forma en que yo debo entregarlo es: \n",
    "\n",
    "`mariolopez_solution_pf2_python_basics_ch.ipynb`\n",
    "\n",
    "Completa todos los lugares que contienen `YOUR CODE HERE` o \"YOUR ANSWER HERE\", y tu nombre en `NAME`."
   ]
  },
  {
   "cell_type": "code",
   "execution_count": 1,
   "metadata": {},
   "outputs": [],
   "source": [
    "NAME = \"Alberto Camacho\""
   ]
  },
  {
   "cell_type": "markdown",
   "metadata": {},
   "source": [
    "<img src=\"mioti.png\" style=\"height: 100px\">\n",
    "<center style=\"color:#888\">Data Science with Python @ Data Science for IoT</center>\n",
    "\n",
    "# DSPy5. NumPy Challenge"
   ]
  },
  {
   "cell_type": "markdown",
   "metadata": {
    "toc": true
   },
   "source": [
    "<h1>Table of Contents<span class=\"tocSkip\"></span></h1>\n",
    "<div class=\"toc\"><ul class=\"toc-item\"><li><span><a href=\"#A-bit-more-of-slicing-(0.3p)\" data-toc-modified-id=\"A-bit-more-of-slicing-(0.3p)-1\"><span class=\"toc-item-num\">1&nbsp;&nbsp;</span>A bit more of slicing (0.3p)</a></span></li><li><span><a href=\"#Broadcasting-into-practice:-feature-scaling-through-standarization-(1p)\" data-toc-modified-id=\"Broadcasting-into-practice:-feature-scaling-through-standarization-(1p)-2\"><span class=\"toc-item-num\">2&nbsp;&nbsp;</span>Broadcasting into practice: feature scaling through standarization (1p)</a></span></li><li><span><a href=\"#Sistemas-de-coordenadas---Vectorización-(0.7p)\" data-toc-modified-id=\"Sistemas-de-coordenadas---Vectorización-(0.7p)-3\"><span class=\"toc-item-num\">3&nbsp;&nbsp;</span>Sistemas de coordenadas - Vectorización (0.7p)</a></span></li></ul></div>"
   ]
  },
  {
   "cell_type": "markdown",
   "metadata": {},
   "source": [
    "## A bit more of slicing (0.3p)\n",
    "\n",
    "* Crea una matriz tamaño n x m de todo ceros, rodeada de 1s. "
   ]
  },
  {
   "cell_type": "code",
   "execution_count": 2,
   "metadata": {},
   "outputs": [
    {
     "data": {
      "text/plain": [
       "array([[1, 1, 1, 1, 1, 1, 1, 1, 1],\n",
       "       [1, 0, 0, 0, 0, 0, 0, 0, 1],\n",
       "       [1, 0, 0, 0, 0, 0, 0, 0, 1],\n",
       "       [1, 1, 1, 1, 1, 1, 1, 1, 1]])"
      ]
     },
     "execution_count": 2,
     "metadata": {},
     "output_type": "execute_result"
    }
   ],
   "source": [
    "n = 4\n",
    "m = 9\n",
    "# YOUR CODE HERE\n",
    "import numpy as np\n",
    "#Primero se convierte el array de unos para preparar el contorno\n",
    "array_ones = np.ones((4,9))\n",
    "#Se selecciona el rango con el slice de las posiciones centrales y se asigna el valor 0\n",
    "array_ones[1:3 , 1:8] = 0\n",
    "#Se convierte el tipo del array a entero\n",
    "array_ones = array_ones.astype(int)\n",
    "#Imprimir output\n",
    "array_ones"
   ]
  },
  {
   "cell_type": "markdown",
   "metadata": {},
   "source": [
    "* Crea una matriz con patrón de tablero de ajedrez. Las casillas negras serán 0, las blancas 1.\n",
    "<img src=\"chess.png\" style=\"height: 300px\">\n"
   ]
  },
  {
   "cell_type": "code",
   "execution_count": 3,
   "metadata": {},
   "outputs": [
    {
     "data": {
      "text/plain": [
       "array([[1, 0, 1, 0, 1, 0, 1, 0],\n",
       "       [0, 1, 0, 1, 0, 1, 0, 1],\n",
       "       [1, 0, 1, 0, 1, 0, 1, 0],\n",
       "       [0, 1, 0, 1, 0, 1, 0, 1],\n",
       "       [1, 0, 1, 0, 1, 0, 1, 0],\n",
       "       [0, 1, 0, 1, 0, 1, 0, 1],\n",
       "       [1, 0, 1, 0, 1, 0, 1, 0],\n",
       "       [0, 1, 0, 1, 0, 1, 0, 1]])"
      ]
     },
     "execution_count": 3,
     "metadata": {},
     "output_type": "execute_result"
    }
   ],
   "source": [
    "# se crean diferentes matrices cuyas diagonales principales son unos y el resto ceros; usando np.eye() \n",
    "#la primera, \"table\", será 8x8 para representar la tabla entera. A partir de ahí se crean  sub-matrices de\n",
    "# 4x4, 2x2 y 6x6 para combinarlas con \"table\", y tener las posiciones blancas como diagonales de \"1\".\n",
    "table = np.eye(8)\n",
    "mount = np.eye(4)\n",
    "mount_2 = np.eye(2)\n",
    "mount_final = np.eye(6)\n",
    "\n",
    "#En primer lugar igualmos las matrices 4x4 y 2x2 a los sub-elementos de table que tiene que combinarse para tener \n",
    "#las posiciones blancas como unos.\n",
    "table[4:8 , 0:4] = mount\n",
    "table[0:4 , 4:8] = mount\n",
    "table [0:2, 6:8] = mount_2\n",
    "table [6:8, 0:2] = mount_2\n",
    "\n",
    "#Finalmente nos quedan las casillas blancas en forma de diagonal de 6. Se suman y no igualan en este caso para no \n",
    "#modificar los cambios previos y cambiar \"1\" por \"0\"\n",
    "table [2:8, 0:6] = table [2:8, 0:6] + mount_final\n",
    "table [0:6, 2:8] = table [0:6, 2:8] + mount_final\n",
    "table_final = table.astype(int)\n",
    "\n",
    "table_final"
   ]
  },
  {
   "cell_type": "markdown",
   "metadata": {},
   "source": [
    "## Broadcasting into practice: feature scaling through standarization (1p)\n",
    "\n",
    "Con algunas excepciones, los algoritmos de Machine Learning no funcionan del todo bien si los atributos numéricos que se les pasan tienen escalas muy diferentes ([further reading](http://scikit-learn.org/stable/auto_examples/preprocessing/plot_scaling_importance.html)). Una técnica que puede usarse para que todos los atributos tengan la misma escala es la estandarización: sustraerles la media (para que sea 0) y dividirlos por la desviación típica (de modo que la varianza resultante sea 1). "
   ]
  },
  {
   "cell_type": "markdown",
   "metadata": {},
   "source": [
    "a) Imaginemos que tenemos un array con datos de un sensor en una playa, que mide cuatro atributos como serían calidad del agua, viento, oleaje y temperatura, en distintas unidades que tienen distintas escalas. Esas mediciones nos llegan en un array con 3 columnas (una por feature) y 1000 filas (una fila por cada instante de tiempo del que tenemos las medidas). "
   ]
  },
  {
   "cell_type": "code",
   "execution_count": 4,
   "metadata": {},
   "outputs": [
    {
     "data": {
      "text/plain": [
       "(1000, 3)"
      ]
     },
     "execution_count": 4,
     "metadata": {},
     "output_type": "execute_result"
    }
   ],
   "source": [
    "data = np.random.normal(loc=[-10, 0, 10], scale=[2, 1, 2], size=(1000,3))\n",
    "data.shape"
   ]
  },
  {
   "cell_type": "markdown",
   "metadata": {},
   "source": [
    "Estandariza esa matriz de manera vectorial: réstale la media por columna y divide por la desviación típica de cada columna."
   ]
  },
  {
   "cell_type": "code",
   "execution_count": 5,
   "metadata": {},
   "outputs": [
    {
     "data": {
      "text/plain": [
       "array([[ 0.90519211, -0.13841641,  0.72839007],\n",
       "       [ 0.22348541,  0.23943015,  0.63459985],\n",
       "       [-0.2098285 ,  0.35464955, -0.62771253],\n",
       "       ...,\n",
       "       [-0.11434894, -1.07860972,  0.10755077],\n",
       "       [-0.95632675, -1.40785038, -1.10449649],\n",
       "       [ 0.87142279, -0.16883564,  0.48355621]])"
      ]
     },
     "execution_count": 5,
     "metadata": {},
     "output_type": "execute_result"
    }
   ],
   "source": [
    "#Array final = (Array original - media)/ (Desviacion Tipica). Se usa np.mean y np.td sobre el axis 0 para tener \n",
    "#la operacion por cada feature(columna en este caso)\n",
    "\n",
    "data_mean = np.mean(data, axis = 0)\n",
    "data_std = np.std(data, axis = 0)\n",
    "data_final = (data - data_mean)/data_std\n",
    "data_final"
   ]
  },
  {
   "cell_type": "markdown",
   "metadata": {},
   "source": [
    "b) Imaginemos ahora que el array 2d tiene una fila por cada feature y una columna por cada medición (la transpuesta de la matriz anterior). ¿Cómo vectorizamos la operación ahora? (réstale la media por fila y divide por la desviación típica por fila)."
   ]
  },
  {
   "cell_type": "code",
   "execution_count": 6,
   "metadata": {
    "scrolled": true
   },
   "outputs": [
    {
     "data": {
      "text/plain": [
       "(3, 1000)"
      ]
     },
     "execution_count": 6,
     "metadata": {},
     "output_type": "execute_result"
    }
   ],
   "source": [
    "data = np.random.normal(loc=[-10, 0, 10], scale=[2, 1, 2], size=(1000,3)).T\n",
    "data.shape"
   ]
  },
  {
   "cell_type": "code",
   "execution_count": 7,
   "metadata": {},
   "outputs": [
    {
     "data": {
      "text/plain": [
       "array([[ 0.76360885,  0.30683858,  1.19406471, ...,  0.76981071,\n",
       "        -1.37924247, -0.05921331],\n",
       "       [-2.01837731, -2.16805534, -0.17516458, ..., -0.2415991 ,\n",
       "        -0.24621049,  0.32441647],\n",
       "       [-0.69557627,  1.91478166, -1.57563397, ...,  1.04899544,\n",
       "        -1.29259168,  0.4438341 ]])"
      ]
     },
     "execution_count": 7,
     "metadata": {},
     "output_type": "execute_result"
    }
   ],
   "source": [
    "# YOUR CODE HERE\n",
    "\n",
    "data_mean = np.mean(data, axis = 1)\n",
    "data_std = np.std(data, axis = 1)\n",
    "\n",
    "#Se realiza la misma operación ue en la primera parte del ejercicio. Sin embargo, en este caso las operaciones mean\n",
    "#y std de np devuelven un array de 1D con 3 elementos, ya que es un resultado por operación a lo largo de las filas.\n",
    "\n",
    "#Para poder operar con el array original de shape (3,1000), es necesario añadir otra dimension a los resultados, \n",
    "#usando newaxis; conn un nuevo eje de la misma dimensión que el eje original\n",
    "\n",
    "data_mean = data_mean[np.newaxis, :]\n",
    "data_mean = data_mean.T\n",
    "data_std = data_std[np.newaxis, :]\n",
    "data_std = data_std.T\n",
    "\n",
    "data_final = (data - data_mean)/data_std\n",
    "data_final"
   ]
  },
  {
   "cell_type": "markdown",
   "metadata": {},
   "source": [
    "## Sistemas de coordenadas - Vectorización (0.7p)"
   ]
  },
  {
   "cell_type": "markdown",
   "metadata": {},
   "source": [
    "Vamos a escribir funciones para convertir puntos dados en un sistema de coordenadas cartesianas a los mismos puntos expresados en un sistema de coordenadas polares.\n",
    "\n",
    "<img src=\"coordinates.png\" style=\"height: 200px;float: left\">\n",
    "\n",
    "Dado un punto en coordenadas cartesianas $(x,y)$, sus correspondientes coordenadas polares $(r, \\varphi)$ se obtienen como sigue:\n",
    "\n",
    "\\begin{equation}\n",
    "r = \\sqrt{(x^2+y^2)}\n",
    "\\end{equation}\n",
    "\\begin{equation}\n",
    "\\varphi = arctan\\left(\\frac{y}{x}\\right)\n",
    "\\end{equation}\n",
    "\n",
    "<div style=\"clear: left\"/>\n",
    "\n",
    "* Escribe una función usando NumPy y otra basada en Python puro tal que, dado un array o lista, respectivamente, de coordenadas cartesianas, devuelva un array o lista de coordenadas polares. \n",
    "* Compara su rendimiento (hint: magic commands de Jupyter notebook)\n",
    "\n"
   ]
  },
  {
   "cell_type": "code",
   "execution_count": 8,
   "metadata": {},
   "outputs": [
    {
     "data": {
      "text/plain": [
       "array([[0.33023089, 0.70821221],\n",
       "       [0.83387874, 0.67921803],\n",
       "       [0.63538473, 0.83256848],\n",
       "       ...,\n",
       "       [0.5052063 , 0.54523935],\n",
       "       [0.27498161, 0.51259994],\n",
       "       [0.03377732, 0.10598399]])"
      ]
     },
     "execution_count": 8,
     "metadata": {},
     "output_type": "execute_result"
    }
   ],
   "source": [
    "#Se crean los elementos de coordenadas cartesianas en forma de array y listas\n",
    "import random\n",
    "import math\n",
    "num_muestras_input = 10000\n",
    "Z_cartesian = np.random.random((num_muestras_input,2))\n",
    "\n",
    "\n",
    "list_x = [random.random() for num in range(0, num_muestras_input)]\n",
    "list_y = [random.random() for num in range(0, num_muestras_input)]\n",
    "\n",
    "Z_cartesian"
   ]
  },
  {
   "cell_type": "code",
   "execution_count": 9,
   "metadata": {},
   "outputs": [],
   "source": [
    "# Dos funciones diferentes con numpy primero y con Python tradicional después.\n",
    "\n",
    "def cart_to_polar_np(array_cart):\n",
    "    #se realizan las operaciones primero para sacar el módulo del vector, con la función sum sobre el \n",
    "    #cuadrado de cada elemento por fila\n",
    "    array_r = np.sum(np.square(array_cart), axis=1)\n",
    "    array_r = np.sqrt(array_r)\n",
    "    #El ángulo se obtiene diviiendo los elementos y entre los x  con la arctan de ese resultado\n",
    "    array_angle = np.divide(array_cart[:,1], array_cart[:,0])\n",
    "    array_angle = np.arctan(array_angle)\n",
    "    #para representar ambos cálculos, r y angle, en la misma matriz se tiene que concatenar. al ser elementos de\n",
    "    #una sola dimensión, se añade otra y se trasponen para representar el resultado final como un array cuyas\n",
    "    #columnas son el vector y el ángulo correspondiente con los índices del array cartesiano original\n",
    "    array_r = array_r[np.newaxis, :]\n",
    "    array_r = array_r.T\n",
    "    array_angle = array_angle[np.newaxis, :]\n",
    "    array_angle = array_angle.T\n",
    "\n",
    "    final = np.concatenate((array_r, array_angle), axis=1)\n",
    "    return final\n",
    "\n",
    "def cart_to_polar_list(x, y):\n",
    "    \n",
    "    r = []\n",
    "    angle =[]\n",
    "    #se usa un bucle que recorre las dos listas de manera paralela y se opera cada elemento de las mismas;\n",
    "    #añadiendo el resultado a las listas resultado que representan el módulo del vector (r), y el ángulo\n",
    "    for numx, numy in zip(x, y):\n",
    "        r.append(math.sqrt((numx**2) + (numy**2)))\n",
    "        angle.append(math.atan(numy/numx))\n",
    "        \n",
    "    return r, angle\n",
    "        "
   ]
  },
  {
   "cell_type": "code",
   "execution_count": 10,
   "metadata": {},
   "outputs": [
    {
     "name": "stdout",
     "output_type": "stream",
     "text": [
      "CPU times: user 3.81 ms, sys: 1.73 ms, total: 5.53 ms\n",
      "Wall time: 3.66 ms\n"
     ]
    }
   ],
   "source": [
    "%time polar_array = cart_to_polar_np(Z_cartesian)"
   ]
  },
  {
   "cell_type": "code",
   "execution_count": 11,
   "metadata": {},
   "outputs": [
    {
     "name": "stdout",
     "output_type": "stream",
     "text": [
      "CPU times: user 13.8 ms, sys: 908 µs, total: 14.7 ms\n",
      "Wall time: 7.46 ms\n"
     ]
    }
   ],
   "source": [
    "%time (r, angle) = cart_to_polar_list(list_x, list_y)"
   ]
  },
  {
   "cell_type": "markdown",
   "metadata": {},
   "source": [
    "Se puede observar con la función time que la operación con numpy es más eficiente en cuanto a procesamiento y tiempo \n",
    "de ejecución"
   ]
  }
 ],
 "metadata": {
  "kernelspec": {
   "display_name": "Python 3",
   "language": "python",
   "name": "python3"
  },
  "language_info": {
   "codemirror_mode": {
    "name": "ipython",
    "version": 3
   },
   "file_extension": ".py",
   "mimetype": "text/x-python",
   "name": "python",
   "nbconvert_exporter": "python",
   "pygments_lexer": "ipython3",
   "version": "3.7.2"
  },
  "toc": {
   "base_numbering": 1,
   "nav_menu": {},
   "number_sections": true,
   "sideBar": true,
   "skip_h1_title": true,
   "title_cell": "Table of Contents",
   "title_sidebar": "Contents",
   "toc_cell": true,
   "toc_position": {},
   "toc_section_display": true,
   "toc_window_display": true
  },
  "varInspector": {
   "cols": {
    "lenName": 16,
    "lenType": 16,
    "lenVar": 40
   },
   "kernels_config": {
    "python": {
     "delete_cmd_postfix": "",
     "delete_cmd_prefix": "del ",
     "library": "var_list.py",
     "varRefreshCmd": "print(var_dic_list())"
    },
    "r": {
     "delete_cmd_postfix": ") ",
     "delete_cmd_prefix": "rm(",
     "library": "var_list.r",
     "varRefreshCmd": "cat(var_dic_list()) "
    }
   },
   "types_to_exclude": [
    "module",
    "function",
    "builtin_function_or_method",
    "instance",
    "_Feature"
   ],
   "window_display": false
  }
 },
 "nbformat": 4,
 "nbformat_minor": 2
}
