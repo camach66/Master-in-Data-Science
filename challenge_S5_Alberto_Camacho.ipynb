{
 "cells": [
  {
   "cell_type": "markdown",
   "metadata": {},
   "source": [
    "<img src=\"mioti.png\" style=\"height: 100px\">\n",
    "<center style=\"color:#888\">Módulo Data Science in IoT<br/>Asignatura: Machine learning 2: Unsupervised learning</center>\n",
    "# Challenge S5: Clusterización II"
   ]
  },
  {
   "cell_type": "markdown",
   "metadata": {},
   "source": [
    "## Plan de expansión: apertura de nuevas tiendas"
   ]
  },
  {
   "cell_type": "markdown",
   "metadata": {},
   "source": [
    "Una cadena de supermercados desea identificar áreas en las que abrir nuevos centros.\n",
    "\n",
    "Utilizando información censal (tabla CENSUS2000) el objetivo es encontrar áreas cuyos perfiles de clientes se adapten a diferentes tipologías de centros: boutiques, supermercados de presupuesto medio, grandes superficies, etc.\n",
    "\n",
    "Se supone que el país tiene una densidad muy baja de establecimientos comerciales y se puede seguir abriendo tiendas en las diferentes regiones."
   ]
  },
  {
   "cell_type": "markdown",
   "metadata": {},
   "source": [
    "<img src=\"tienda.jpg\">"
   ]
  },
  {
   "cell_type": "markdown",
   "metadata": {},
   "source": [
    "## Configuración del entorno\n",
    "\n",
    "Es recomendable declarar en un bloque al inicio todos los paquetes que vas a utilizar en este notebook:"
   ]
  },
  {
   "cell_type": "code",
   "execution_count": 1,
   "metadata": {},
   "outputs": [],
   "source": [
    "%matplotlib inline\n",
    "\n",
    "import warnings\n",
    "warnings.filterwarnings(\"ignore\")\n",
    "\n",
    "import numpy as np\n",
    "import pandas as pd\n",
    "import matplotlib.pyplot as plt\n",
    "import sklearn"
   ]
  },
  {
   "cell_type": "markdown",
   "metadata": {},
   "source": [
    "### Información del dataset Census2000\n",
    "Como hemos mencionado, vamos a hacer uso de un dataset con información censal (tabla CENSUS2000).\n",
    "\n",
    "Las variables de las que dispone son:  \n",
    "\n",
    "* Numrow: Numero de fila\n",
    "* ID: Identificador del registro\n",
    "* LocX y LocY para geolocalizar las zonas\n",
    "* RegDens: Densidad de población de la región\n",
    "* RegPop: Número de habitantes de la región\n",
    "* MedHHInc: Nivel de ingresos medio de la unidad familiar\n",
    "* MeanHHSz: Tamaño medio de la unidad familiar (HH = Household)\n",
    "\n",
    "Los datos se encuentran en un fichero `csv` llamado `census2000.csv`.\n",
    "\n",
    "Carga los datos en un dataframe para hacer los ejercicios de este bloque."
   ]
  },
  {
   "cell_type": "code",
   "execution_count": 2,
   "metadata": {},
   "outputs": [],
   "source": [
    "dfc=pd.read_csv(\"census2000.csv\")"
   ]
  },
  {
   "cell_type": "markdown",
   "metadata": {},
   "source": [
    "Una vez cargados los datos debemos inspeccionarlos antes de empezar nuestro análisis."
   ]
  },
  {
   "cell_type": "code",
   "execution_count": 3,
   "metadata": {},
   "outputs": [
    {
     "data": {
      "text/html": [
       "<div>\n",
       "<style scoped>\n",
       "    .dataframe tbody tr th:only-of-type {\n",
       "        vertical-align: middle;\n",
       "    }\n",
       "\n",
       "    .dataframe tbody tr th {\n",
       "        vertical-align: top;\n",
       "    }\n",
       "\n",
       "    .dataframe thead th {\n",
       "        text-align: right;\n",
       "    }\n",
       "</style>\n",
       "<table border=\"1\" class=\"dataframe\">\n",
       "  <thead>\n",
       "    <tr style=\"text-align: right;\">\n",
       "      <th></th>\n",
       "      <th>Numrow</th>\n",
       "      <th>ID</th>\n",
       "      <th>LocX</th>\n",
       "      <th>LocY</th>\n",
       "      <th>RegDens</th>\n",
       "      <th>RegPop</th>\n",
       "      <th>MedHHInc</th>\n",
       "      <th>MeanHHSz</th>\n",
       "    </tr>\n",
       "  </thead>\n",
       "  <tbody>\n",
       "    <tr>\n",
       "      <th>0</th>\n",
       "      <td>0</td>\n",
       "      <td>00601</td>\n",
       "      <td>-66.749472</td>\n",
       "      <td>18.180103</td>\n",
       "      <td>70.0</td>\n",
       "      <td>19143.0</td>\n",
       "      <td>9888.0</td>\n",
       "      <td>3.24</td>\n",
       "    </tr>\n",
       "    <tr>\n",
       "      <th>1</th>\n",
       "      <td>1</td>\n",
       "      <td>00602</td>\n",
       "      <td>-67.180247</td>\n",
       "      <td>18.363285</td>\n",
       "      <td>83.0</td>\n",
       "      <td>42042.0</td>\n",
       "      <td>11384.0</td>\n",
       "      <td>3.10</td>\n",
       "    </tr>\n",
       "    <tr>\n",
       "      <th>2</th>\n",
       "      <td>2</td>\n",
       "      <td>00603</td>\n",
       "      <td>-67.134224</td>\n",
       "      <td>18.448619</td>\n",
       "      <td>86.0</td>\n",
       "      <td>55592.0</td>\n",
       "      <td>10748.0</td>\n",
       "      <td>2.84</td>\n",
       "    </tr>\n",
       "    <tr>\n",
       "      <th>3</th>\n",
       "      <td>3</td>\n",
       "      <td>00604</td>\n",
       "      <td>-67.136995</td>\n",
       "      <td>18.498987</td>\n",
       "      <td>83.0</td>\n",
       "      <td>3844.0</td>\n",
       "      <td>31199.0</td>\n",
       "      <td>3.00</td>\n",
       "    </tr>\n",
       "    <tr>\n",
       "      <th>4</th>\n",
       "      <td>4</td>\n",
       "      <td>00606</td>\n",
       "      <td>-66.958807</td>\n",
       "      <td>18.182151</td>\n",
       "      <td>65.0</td>\n",
       "      <td>6449.0</td>\n",
       "      <td>9243.0</td>\n",
       "      <td>3.20</td>\n",
       "    </tr>\n",
       "  </tbody>\n",
       "</table>\n",
       "</div>"
      ],
      "text/plain": [
       "   Numrow     ID       LocX       LocY  RegDens   RegPop  MedHHInc  MeanHHSz\n",
       "0       0  00601 -66.749472  18.180103     70.0  19143.0    9888.0      3.24\n",
       "1       1  00602 -67.180247  18.363285     83.0  42042.0   11384.0      3.10\n",
       "2       2  00603 -67.134224  18.448619     86.0  55592.0   10748.0      2.84\n",
       "3       3  00604 -67.136995  18.498987     83.0   3844.0   31199.0      3.00\n",
       "4       4  00606 -66.958807  18.182151     65.0   6449.0    9243.0      3.20"
      ]
     },
     "execution_count": 3,
     "metadata": {},
     "output_type": "execute_result"
    }
   ],
   "source": [
    "dfc.head()"
   ]
  },
  {
   "cell_type": "markdown",
   "metadata": {},
   "source": [
    "¿Cuantos registros y columnas tiene el dataset?\n",
    "\n",
    "¿De que tipo son los datos cargados?"
   ]
  },
  {
   "cell_type": "code",
   "execution_count": 4,
   "metadata": {},
   "outputs": [
    {
     "name": "stdout",
     "output_type": "stream",
     "text": [
      "<class 'pandas.core.frame.DataFrame'>\n",
      "RangeIndex: 33178 entries, 0 to 33177\n",
      "Data columns (total 8 columns):\n",
      "Numrow      33178 non-null int64\n",
      "ID          33178 non-null object\n",
      "LocX        33178 non-null float64\n",
      "LocY        33178 non-null float64\n",
      "RegDens     32165 non-null float64\n",
      "RegPop      33178 non-null float64\n",
      "MedHHInc    33178 non-null float64\n",
      "MeanHHSz    33178 non-null float64\n",
      "dtypes: float64(6), int64(1), object(1)\n",
      "memory usage: 2.0+ MB\n"
     ]
    }
   ],
   "source": [
    "dfc.info()"
   ]
  },
  {
   "cell_type": "code",
   "execution_count": null,
   "metadata": {},
   "outputs": [],
   "source": []
  },
  {
   "cell_type": "markdown",
   "metadata": {},
   "source": [
    "## Filtrado de datos\n",
    "Una particularidad de este dataset es que contiene información sobre hogares que no tiene miembros en la unidad familiar. Cuantos registros se tienen con unidades familiares iguales o superiores a 1?:"
   ]
  },
  {
   "cell_type": "code",
   "execution_count": 5,
   "metadata": {},
   "outputs": [
    {
     "data": {
      "text/plain": [
       "32079"
      ]
     },
     "execution_count": 5,
     "metadata": {},
     "output_type": "execute_result"
    }
   ],
   "source": [
    "dfc_filter = dfc[dfc['MeanHHSz'] >= 1]\n",
    "len(dfc_filter)"
   ]
  },
  {
   "cell_type": "markdown",
   "metadata": {},
   "source": [
    "En este caso vamos a trabajar sólo con aquellos registros con unidades familiares mayores o iguales que 2, para ello tienes que filtrar los datos y quedarte solo con dichos datos."
   ]
  },
  {
   "cell_type": "code",
   "execution_count": 6,
   "metadata": {},
   "outputs": [
    {
     "data": {
      "text/plain": [
       "30899"
      ]
     },
     "execution_count": 6,
     "metadata": {},
     "output_type": "execute_result"
    }
   ],
   "source": [
    "dfc_filter = dfc[dfc['MeanHHSz'] >= 2]\n",
    "len(dfc_filter)"
   ]
  },
  {
   "cell_type": "markdown",
   "metadata": {},
   "source": [
    "De esta manera hemos filtrado los datos y podemos ver el resultado:"
   ]
  },
  {
   "cell_type": "code",
   "execution_count": null,
   "metadata": {},
   "outputs": [],
   "source": []
  },
  {
   "cell_type": "markdown",
   "metadata": {},
   "source": [
    "## Visualización de los datos\n",
    "Para hacernos una idea de los datos podemos generar algunos gráficos con las principales características de los datos. Podemos utilizar gráficos de barras, sectores, histograma de frecuencias."
   ]
  },
  {
   "cell_type": "code",
   "execution_count": 7,
   "metadata": {},
   "outputs": [
    {
     "data": {
      "text/plain": [
       "array([[<matplotlib.axes._subplots.AxesSubplot object at 0xa1da96b00>]],\n",
       "      dtype=object)"
      ]
     },
     "execution_count": 7,
     "metadata": {},
     "output_type": "execute_result"
    },
    {
     "data": {
      "image/png": "[encoded data removed]",
      "text/plain": [
       "<Figure size 432x288 with 1 Axes>"
      ]
     },
     "metadata": {
      "needs_background": "light"
     },
     "output_type": "display_data"
    }
   ],
   "source": [
    "dfc_filter.hist(column='RegPop')"
   ]
  },
  {
   "cell_type": "code",
   "execution_count": 8,
   "metadata": {
    "scrolled": true
   },
   "outputs": [
    {
     "data": {
      "text/plain": [
       "array([[<matplotlib.axes._subplots.AxesSubplot object at 0xa1fa40c18>]],\n",
       "      dtype=object)"
      ]
     },
     "execution_count": 8,
     "metadata": {},
     "output_type": "execute_result"
    },
    {
     "data": {
      "image/png": "[encoded data removed]",
      "text/plain": [
       "<Figure size 432x288 with 1 Axes>"
      ]
     },
     "metadata": {
      "needs_background": "light"
     },
     "output_type": "display_data"
    }
   ],
   "source": [
    "dfc_filter.hist(column='MedHHInc')"
   ]
  },
  {
   "cell_type": "code",
   "execution_count": 9,
   "metadata": {
    "scrolled": true
   },
   "outputs": [
    {
     "data": {
      "text/plain": [
       "array([[<matplotlib.axes._subplots.AxesSubplot object at 0xa1fa40b38>]],\n",
       "      dtype=object)"
      ]
     },
     "execution_count": 9,
     "metadata": {},
     "output_type": "execute_result"
    },
    {
     "data": {
      "image/png": "[encoded data removed]",
      "text/plain": [
       "<Figure size 432x288 with 1 Axes>"
      ]
     },
     "metadata": {
      "needs_background": "light"
     },
     "output_type": "display_data"
    }
   ],
   "source": [
    "dfc_filter.hist(column = 'RegDens')"
   ]
  },
  {
   "cell_type": "code",
   "execution_count": 10,
   "metadata": {},
   "outputs": [
    {
     "data": {
      "text/plain": [
       "array([[<matplotlib.axes._subplots.AxesSubplot object at 0xa1e1db160>]],\n",
       "      dtype=object)"
      ]
     },
     "execution_count": 10,
     "metadata": {},
     "output_type": "execute_result"
    },
    {
     "data": {
      "image/png": "[encoded data removed]",
      "text/plain": [
       "<Figure size 432x288 with 1 Axes>"
      ]
     },
     "metadata": {
      "needs_background": "light"
     },
     "output_type": "display_data"
    }
   ],
   "source": [
    "dfc_filter.hist(column='MeanHHSz')"
   ]
  },
  {
   "cell_type": "markdown",
   "metadata": {},
   "source": [
    "* ¿Qué nos están diciendo estos gráficos sobre los datos?\n",
    "* ¿Aprecias normalidad de los datos? Genera un histograma con cada variable que consideres y revisa si ¿Tiene forma de campana?"
   ]
  },
  {
   "cell_type": "markdown",
   "metadata": {},
   "source": [
    "Excepto la Media, el resto representa una ligera forma de campana en los histogramas. Cabe destacar RegDens con una varianza muy elevada si se considera como distribución normal."
   ]
  },
  {
   "cell_type": "markdown",
   "metadata": {},
   "source": [
    "También puedes revisar la relación que existe entre las variables, la forma mas sencilla es mediante un gráfico de dispersión o calculando el coeficiente de correlación para revisar las relaciones lineales."
   ]
  },
  {
   "cell_type": "code",
   "execution_count": 11,
   "metadata": {},
   "outputs": [
    {
     "data": {
      "text/html": [
       "<div>\n",
       "<style scoped>\n",
       "    .dataframe tbody tr th:only-of-type {\n",
       "        vertical-align: middle;\n",
       "    }\n",
       "\n",
       "    .dataframe tbody tr th {\n",
       "        vertical-align: top;\n",
       "    }\n",
       "\n",
       "    .dataframe thead th {\n",
       "        text-align: right;\n",
       "    }\n",
       "</style>\n",
       "<table border=\"1\" class=\"dataframe\">\n",
       "  <thead>\n",
       "    <tr style=\"text-align: right;\">\n",
       "      <th></th>\n",
       "      <th>Numrow</th>\n",
       "      <th>LocX</th>\n",
       "      <th>LocY</th>\n",
       "      <th>RegDens</th>\n",
       "      <th>RegPop</th>\n",
       "      <th>MedHHInc</th>\n",
       "      <th>MeanHHSz</th>\n",
       "    </tr>\n",
       "  </thead>\n",
       "  <tbody>\n",
       "    <tr>\n",
       "      <th>Numrow</th>\n",
       "      <td>1.000000</td>\n",
       "      <td>-0.888357</td>\n",
       "      <td>-0.043701</td>\n",
       "      <td>-0.279940</td>\n",
       "      <td>0.002020</td>\n",
       "      <td>-0.111858</td>\n",
       "      <td>0.143020</td>\n",
       "    </tr>\n",
       "    <tr>\n",
       "      <th>LocX</th>\n",
       "      <td>-0.888357</td>\n",
       "      <td>1.000000</td>\n",
       "      <td>-0.116894</td>\n",
       "      <td>0.254617</td>\n",
       "      <td>-0.015625</td>\n",
       "      <td>0.067608</td>\n",
       "      <td>-0.184683</td>\n",
       "    </tr>\n",
       "    <tr>\n",
       "      <th>LocY</th>\n",
       "      <td>-0.043701</td>\n",
       "      <td>-0.116894</td>\n",
       "      <td>1.000000</td>\n",
       "      <td>-0.161722</td>\n",
       "      <td>-0.180388</td>\n",
       "      <td>0.121010</td>\n",
       "      <td>-0.074380</td>\n",
       "    </tr>\n",
       "    <tr>\n",
       "      <th>RegDens</th>\n",
       "      <td>-0.279940</td>\n",
       "      <td>0.254617</td>\n",
       "      <td>-0.161722</td>\n",
       "      <td>1.000000</td>\n",
       "      <td>0.623130</td>\n",
       "      <td>0.367567</td>\n",
       "      <td>0.087272</td>\n",
       "    </tr>\n",
       "    <tr>\n",
       "      <th>RegPop</th>\n",
       "      <td>0.002020</td>\n",
       "      <td>-0.015625</td>\n",
       "      <td>-0.180388</td>\n",
       "      <td>0.623130</td>\n",
       "      <td>1.000000</td>\n",
       "      <td>0.202925</td>\n",
       "      <td>0.108856</td>\n",
       "    </tr>\n",
       "    <tr>\n",
       "      <th>MedHHInc</th>\n",
       "      <td>-0.111858</td>\n",
       "      <td>0.067608</td>\n",
       "      <td>0.121010</td>\n",
       "      <td>0.367567</td>\n",
       "      <td>0.202925</td>\n",
       "      <td>1.000000</td>\n",
       "      <td>0.154244</td>\n",
       "    </tr>\n",
       "    <tr>\n",
       "      <th>MeanHHSz</th>\n",
       "      <td>0.143020</td>\n",
       "      <td>-0.184683</td>\n",
       "      <td>-0.074380</td>\n",
       "      <td>0.087272</td>\n",
       "      <td>0.108856</td>\n",
       "      <td>0.154244</td>\n",
       "      <td>1.000000</td>\n",
       "    </tr>\n",
       "  </tbody>\n",
       "</table>\n",
       "</div>"
      ],
      "text/plain": [
       "            Numrow      LocX      LocY   RegDens    RegPop  MedHHInc  MeanHHSz\n",
       "Numrow    1.000000 -0.888357 -0.043701 -0.279940  0.002020 -0.111858  0.143020\n",
       "LocX     -0.888357  1.000000 -0.116894  0.254617 -0.015625  0.067608 -0.184683\n",
       "LocY     -0.043701 -0.116894  1.000000 -0.161722 -0.180388  0.121010 -0.074380\n",
       "RegDens  -0.279940  0.254617 -0.161722  1.000000  0.623130  0.367567  0.087272\n",
       "RegPop    0.002020 -0.015625 -0.180388  0.623130  1.000000  0.202925  0.108856\n",
       "MedHHInc -0.111858  0.067608  0.121010  0.367567  0.202925  1.000000  0.154244\n",
       "MeanHHSz  0.143020 -0.184683 -0.074380  0.087272  0.108856  0.154244  1.000000"
      ]
     },
     "execution_count": 11,
     "metadata": {},
     "output_type": "execute_result"
    }
   ],
   "source": [
    "dfc_filter.corr()"
   ]
  },
  {
   "cell_type": "markdown",
   "metadata": {},
   "source": [
    "#### Algunos apuntes sobre el coeficiente de correlación\n",
    "El [coeficiente de correlación ](https://es.wikipedia.org/wiki/Coeficiente_de_correlaci%C3%B3n_de_Pearson) es una medida del grado de *dependencia lineal* entre dos variables. El [coeficiente de correlación](https://es.wikipedia.org/wiki/Coeficiente_de_correlaci%C3%B3n_de_Pearson) oscila entre -1 y 1. Un valor de 1 significa que una [ecuación lineal](https://es.wikipedia.org/wiki/Ecuaci%C3%B3n_de_primer_grado) describe la relación entre las dos variables a la perfección, con todos los puntos de datos cayendo sobre una línea recta de pendiente positiva. Un valor de -1 implica que todos los puntos de datos se encuentran en una línea con pendiente negativa. Un valor de 0 implica que no existe una correlación lineal entre las variables. Lo podemos calcular con el método `corr`."
   ]
  },
  {
   "cell_type": "code",
   "execution_count": 12,
   "metadata": {},
   "outputs": [
    {
     "data": {
      "text/html": [
       "<div>\n",
       "<style scoped>\n",
       "    .dataframe tbody tr th:only-of-type {\n",
       "        vertical-align: middle;\n",
       "    }\n",
       "\n",
       "    .dataframe tbody tr th {\n",
       "        vertical-align: top;\n",
       "    }\n",
       "\n",
       "    .dataframe thead th {\n",
       "        text-align: right;\n",
       "    }\n",
       "</style>\n",
       "<table border=\"1\" class=\"dataframe\">\n",
       "  <thead>\n",
       "    <tr style=\"text-align: right;\">\n",
       "      <th></th>\n",
       "      <th>Numrow</th>\n",
       "      <th>LocX</th>\n",
       "      <th>LocY</th>\n",
       "      <th>RegDens</th>\n",
       "      <th>RegPop</th>\n",
       "      <th>MedHHInc</th>\n",
       "      <th>MeanHHSz</th>\n",
       "    </tr>\n",
       "  </thead>\n",
       "  <tbody>\n",
       "    <tr>\n",
       "      <th>Numrow</th>\n",
       "      <td>1.000000</td>\n",
       "      <td>-0.888357</td>\n",
       "      <td>-0.043701</td>\n",
       "      <td>-0.279940</td>\n",
       "      <td>0.002020</td>\n",
       "      <td>-0.111858</td>\n",
       "      <td>0.143020</td>\n",
       "    </tr>\n",
       "    <tr>\n",
       "      <th>LocX</th>\n",
       "      <td>-0.888357</td>\n",
       "      <td>1.000000</td>\n",
       "      <td>-0.116894</td>\n",
       "      <td>0.254617</td>\n",
       "      <td>-0.015625</td>\n",
       "      <td>0.067608</td>\n",
       "      <td>-0.184683</td>\n",
       "    </tr>\n",
       "    <tr>\n",
       "      <th>LocY</th>\n",
       "      <td>-0.043701</td>\n",
       "      <td>-0.116894</td>\n",
       "      <td>1.000000</td>\n",
       "      <td>-0.161722</td>\n",
       "      <td>-0.180388</td>\n",
       "      <td>0.121010</td>\n",
       "      <td>-0.074380</td>\n",
       "    </tr>\n",
       "    <tr>\n",
       "      <th>RegDens</th>\n",
       "      <td>-0.279940</td>\n",
       "      <td>0.254617</td>\n",
       "      <td>-0.161722</td>\n",
       "      <td>1.000000</td>\n",
       "      <td>0.623130</td>\n",
       "      <td>0.367567</td>\n",
       "      <td>0.087272</td>\n",
       "    </tr>\n",
       "    <tr>\n",
       "      <th>RegPop</th>\n",
       "      <td>0.002020</td>\n",
       "      <td>-0.015625</td>\n",
       "      <td>-0.180388</td>\n",
       "      <td>0.623130</td>\n",
       "      <td>1.000000</td>\n",
       "      <td>0.202925</td>\n",
       "      <td>0.108856</td>\n",
       "    </tr>\n",
       "    <tr>\n",
       "      <th>MedHHInc</th>\n",
       "      <td>-0.111858</td>\n",
       "      <td>0.067608</td>\n",
       "      <td>0.121010</td>\n",
       "      <td>0.367567</td>\n",
       "      <td>0.202925</td>\n",
       "      <td>1.000000</td>\n",
       "      <td>0.154244</td>\n",
       "    </tr>\n",
       "    <tr>\n",
       "      <th>MeanHHSz</th>\n",
       "      <td>0.143020</td>\n",
       "      <td>-0.184683</td>\n",
       "      <td>-0.074380</td>\n",
       "      <td>0.087272</td>\n",
       "      <td>0.108856</td>\n",
       "      <td>0.154244</td>\n",
       "      <td>1.000000</td>\n",
       "    </tr>\n",
       "  </tbody>\n",
       "</table>\n",
       "</div>"
      ],
      "text/plain": [
       "            Numrow      LocX      LocY   RegDens    RegPop  MedHHInc  MeanHHSz\n",
       "Numrow    1.000000 -0.888357 -0.043701 -0.279940  0.002020 -0.111858  0.143020\n",
       "LocX     -0.888357  1.000000 -0.116894  0.254617 -0.015625  0.067608 -0.184683\n",
       "LocY     -0.043701 -0.116894  1.000000 -0.161722 -0.180388  0.121010 -0.074380\n",
       "RegDens  -0.279940  0.254617 -0.161722  1.000000  0.623130  0.367567  0.087272\n",
       "RegPop    0.002020 -0.015625 -0.180388  0.623130  1.000000  0.202925  0.108856\n",
       "MedHHInc -0.111858  0.067608  0.121010  0.367567  0.202925  1.000000  0.154244\n",
       "MeanHHSz  0.143020 -0.184683 -0.074380  0.087272  0.108856  0.154244  1.000000"
      ]
     },
     "execution_count": 12,
     "metadata": {},
     "output_type": "execute_result"
    }
   ],
   "source": [
    "# coeficiente de correlación\n",
    "dfc_filter.corr()"
   ]
  },
  {
   "cell_type": "markdown",
   "metadata": {},
   "source": [
    "#### Recuerda también que correlación no implica causalidad.\n",
    "Todo esto de la mala interpretación de la correlación también se encuentra, y en demasiadas ocasiones, en estudios científicos supuestamente serios. No son pocos los estudios que al encontrar una cierta relación entre dos variables presentes en los sujetos estudiados se tiran a la piscina afirmando que por tanto una de ellas es la causa de la otra, cuando en realidad en dichos estudios no hay ninguna evidencia de que esto sea verdad (simplemente hay correlación)."
   ]
  },
  {
   "cell_type": "markdown",
   "metadata": {},
   "source": [
    "Echa un vistazo a este link y sorprendete con las \"Spurious correlations\"  http://tylervigen.com/spurious-correlations"
   ]
  },
  {
   "cell_type": "markdown",
   "metadata": {},
   "source": [
    "<img src=\"correlacion.png\" style=\"height: 150px\">"
   ]
  },
  {
   "cell_type": "markdown",
   "metadata": {},
   "source": [
    "## Transformación de variables\n",
    "\n",
    "Una herramienta muy interesante a utilizar en aquellas variables que no cumplan con los criterios de normalidad es aplicar alguna transformación sobre las mismas, en particular el logaritmo funciona muy bien, y después de aplicarla confirma si los datos transformados se comportan como una normal.\n",
    "\n",
    "Las ventajas de aplicar una transformación cuando la distribución de la variable no es normal son las siguientes:\n",
    "\n",
    "* Que el efecto de posibles outliers sea menor.\n",
    "* En algunos casos podría inducir normalidad, condición no necesaria, pero deseable.\n",
    "* Que los rangos de las variables sean más comparables"
   ]
  },
  {
   "cell_type": "markdown",
   "metadata": {},
   "source": [
    "<img src=\"logaritmo.png\" style=\"height: 200px\">"
   ]
  },
  {
   "cell_type": "markdown",
   "metadata": {},
   "source": [
    "## Tratamiento de los datos, preprocessing\n",
    "\n",
    "Respecto al tratamiento de datos, se llevarán a cabo las siguientes tareas:\n",
    "\n",
    "* Imputación de missings.- la única variable que contiene valores missings es RegDens. Se predecirán sus valores a partir del resto de explicativas.\n",
    "\n",
    "* Tratamiento de outliers.- se podrían filtras aquellas observaciones atípicas respecto de cada una de las variables. Hay que tener en cuenta que esto implicaría la pérdida de algunas regiones. \n",
    "\n",
    "* Alternativamente (para no perder registros) o de forma adicional, se puede aplicar una transformación a las variables con las ventajas ya mencionadas"
   ]
  },
  {
   "cell_type": "code",
   "execution_count": 13,
   "metadata": {},
   "outputs": [],
   "source": [
    "dfc[['RegDens']] = dfc[['RegDens']].fillna(dfc['RegDens'].mean())"
   ]
  },
  {
   "cell_type": "code",
   "execution_count": 14,
   "metadata": {},
   "outputs": [
    {
     "name": "stdout",
     "output_type": "stream",
     "text": [
      "<class 'pandas.core.frame.DataFrame'>\n",
      "RangeIndex: 33178 entries, 0 to 33177\n",
      "Data columns (total 8 columns):\n",
      "Numrow      33178 non-null int64\n",
      "ID          33178 non-null object\n",
      "LocX        33178 non-null float64\n",
      "LocY        33178 non-null float64\n",
      "RegDens     33178 non-null float64\n",
      "RegPop      33178 non-null float64\n",
      "MedHHInc    33178 non-null float64\n",
      "MeanHHSz    33178 non-null float64\n",
      "dtypes: float64(6), int64(1), object(1)\n",
      "memory usage: 2.0+ MB\n"
     ]
    }
   ],
   "source": [
    "dfc.info()"
   ]
  },
  {
   "cell_type": "code",
   "execution_count": 15,
   "metadata": {},
   "outputs": [],
   "source": [
    "dfc_out = dfc [['LocX', 'LocY', 'RegDens','RegPop', 'MedHHInc', 'MeanHHSz']]"
   ]
  },
  {
   "cell_type": "code",
   "execution_count": 16,
   "metadata": {},
   "outputs": [
    {
     "data": {
      "text/html": [
       "<div>\n",
       "<style scoped>\n",
       "    .dataframe tbody tr th:only-of-type {\n",
       "        vertical-align: middle;\n",
       "    }\n",
       "\n",
       "    .dataframe tbody tr th {\n",
       "        vertical-align: top;\n",
       "    }\n",
       "\n",
       "    .dataframe thead th {\n",
       "        text-align: right;\n",
       "    }\n",
       "</style>\n",
       "<table border=\"1\" class=\"dataframe\">\n",
       "  <thead>\n",
       "    <tr style=\"text-align: right;\">\n",
       "      <th></th>\n",
       "      <th>LocX</th>\n",
       "      <th>LocY</th>\n",
       "      <th>RegDens</th>\n",
       "      <th>RegPop</th>\n",
       "      <th>MedHHInc</th>\n",
       "      <th>MeanHHSz</th>\n",
       "    </tr>\n",
       "  </thead>\n",
       "  <tbody>\n",
       "    <tr>\n",
       "      <th>0</th>\n",
       "      <td>-66.749472</td>\n",
       "      <td>18.180103</td>\n",
       "      <td>70.0</td>\n",
       "      <td>19143.0</td>\n",
       "      <td>9888.0</td>\n",
       "      <td>3.24</td>\n",
       "    </tr>\n",
       "    <tr>\n",
       "      <th>1</th>\n",
       "      <td>-67.180247</td>\n",
       "      <td>18.363285</td>\n",
       "      <td>83.0</td>\n",
       "      <td>42042.0</td>\n",
       "      <td>11384.0</td>\n",
       "      <td>3.10</td>\n",
       "    </tr>\n",
       "    <tr>\n",
       "      <th>2</th>\n",
       "      <td>-67.134224</td>\n",
       "      <td>18.448619</td>\n",
       "      <td>86.0</td>\n",
       "      <td>55592.0</td>\n",
       "      <td>10748.0</td>\n",
       "      <td>2.84</td>\n",
       "    </tr>\n",
       "    <tr>\n",
       "      <th>3</th>\n",
       "      <td>-67.136995</td>\n",
       "      <td>18.498987</td>\n",
       "      <td>83.0</td>\n",
       "      <td>3844.0</td>\n",
       "      <td>31199.0</td>\n",
       "      <td>3.00</td>\n",
       "    </tr>\n",
       "    <tr>\n",
       "      <th>4</th>\n",
       "      <td>-66.958807</td>\n",
       "      <td>18.182151</td>\n",
       "      <td>65.0</td>\n",
       "      <td>6449.0</td>\n",
       "      <td>9243.0</td>\n",
       "      <td>3.20</td>\n",
       "    </tr>\n",
       "  </tbody>\n",
       "</table>\n",
       "</div>"
      ],
      "text/plain": [
       "        LocX       LocY  RegDens   RegPop  MedHHInc  MeanHHSz\n",
       "0 -66.749472  18.180103     70.0  19143.0    9888.0      3.24\n",
       "1 -67.180247  18.363285     83.0  42042.0   11384.0      3.10\n",
       "2 -67.134224  18.448619     86.0  55592.0   10748.0      2.84\n",
       "3 -67.136995  18.498987     83.0   3844.0   31199.0      3.00\n",
       "4 -66.958807  18.182151     65.0   6449.0    9243.0      3.20"
      ]
     },
     "execution_count": 16,
     "metadata": {},
     "output_type": "execute_result"
    }
   ],
   "source": [
    "dfc_out.head()"
   ]
  },
  {
   "cell_type": "code",
   "execution_count": 17,
   "metadata": {},
   "outputs": [
    {
     "name": "stdout",
     "output_type": "stream",
     "text": [
      "<class 'pandas.core.frame.DataFrame'>\n",
      "RangeIndex: 33178 entries, 0 to 33177\n",
      "Data columns (total 6 columns):\n",
      "LocX        33178 non-null float64\n",
      "LocY        33178 non-null float64\n",
      "RegDens     33178 non-null float64\n",
      "RegPop      33178 non-null float64\n",
      "MedHHInc    33178 non-null float64\n",
      "MeanHHSz    33178 non-null float64\n",
      "dtypes: float64(6)\n",
      "memory usage: 1.5 MB\n"
     ]
    }
   ],
   "source": [
    "dfc_out.info()"
   ]
  },
  {
   "cell_type": "code",
   "execution_count": 18,
   "metadata": {},
   "outputs": [
    {
     "name": "stdout",
     "output_type": "stream",
     "text": [
      "[[1.61473959e+00 3.85315713e+00 6.86111934e-01 8.12572463e-01\n",
      "  1.62346446e+00 1.24096426e+00]\n",
      " [1.58615553e+00 3.81897702e+00 1.14352026e+00 2.57694350e+00\n",
      "  1.53782642e+00 1.00596163e+00]\n",
      " [1.58920939e+00 3.80305447e+00 1.24907602e+00 3.62097283e+00\n",
      "  1.57423404e+00 5.69528182e-01]\n",
      " ...\n",
      " [2.67954600e+00 3.18051390e+00 1.70648544e+00 6.58776911e-01\n",
      "  3.09174993e-02 6.05484969e-01]\n",
      " [2.73412369e+00 3.11785590e+00 2.50006277e-16 6.62398267e-01\n",
      "  2.18949984e+00 4.19766800e+00]\n",
      " [2.75141022e+00 3.13204857e+00 1.74167069e+00 6.32965116e-01\n",
      "  2.86114277e-01 1.18693797e-01]]\n"
     ]
    }
   ],
   "source": [
    "from scipy import stats\n",
    "import numpy as np\n",
    "z = np.abs(stats.zscore(dfc_out))\n",
    "print(z)"
   ]
  },
  {
   "cell_type": "code",
   "execution_count": 19,
   "metadata": {},
   "outputs": [],
   "source": [
    "#se crea la variable donde se guardan los utliers detectados\n",
    "dfc_outlier = dfc_out[(z < 3).all(axis=1)]"
   ]
  },
  {
   "cell_type": "code",
   "execution_count": 20,
   "metadata": {},
   "outputs": [
    {
     "name": "stdout",
     "output_type": "stream",
     "text": [
      "<class 'pandas.core.frame.DataFrame'>\n",
      "Int64Index: 30463 entries, 130 to 32925\n",
      "Data columns (total 6 columns):\n",
      "LocX        30463 non-null float64\n",
      "LocY        30463 non-null float64\n",
      "RegDens     30463 non-null float64\n",
      "RegPop      30463 non-null float64\n",
      "MedHHInc    30463 non-null float64\n",
      "MeanHHSz    30463 non-null float64\n",
      "dtypes: float64(6)\n",
      "memory usage: 1.6 MB\n"
     ]
    }
   ],
   "source": [
    "dfc_outlier.info()"
   ]
  },
  {
   "cell_type": "code",
   "execution_count": 21,
   "metadata": {},
   "outputs": [
    {
     "data": {
      "text/html": [
       "<div>\n",
       "<style scoped>\n",
       "    .dataframe tbody tr th:only-of-type {\n",
       "        vertical-align: middle;\n",
       "    }\n",
       "\n",
       "    .dataframe tbody tr th {\n",
       "        vertical-align: top;\n",
       "    }\n",
       "\n",
       "    .dataframe thead th {\n",
       "        text-align: right;\n",
       "    }\n",
       "</style>\n",
       "<table border=\"1\" class=\"dataframe\">\n",
       "  <thead>\n",
       "    <tr style=\"text-align: right;\">\n",
       "      <th></th>\n",
       "      <th>LocX</th>\n",
       "      <th>LocY</th>\n",
       "      <th>RegDens</th>\n",
       "      <th>RegPop</th>\n",
       "      <th>MedHHInc</th>\n",
       "      <th>MeanHHSz</th>\n",
       "    </tr>\n",
       "  </thead>\n",
       "  <tbody>\n",
       "    <tr>\n",
       "      <th>130</th>\n",
       "      <td>-72.620290</td>\n",
       "      <td>42.070610</td>\n",
       "      <td>83.0</td>\n",
       "      <td>16475.0</td>\n",
       "      <td>45735.0</td>\n",
       "      <td>2.25</td>\n",
       "    </tr>\n",
       "    <tr>\n",
       "      <th>131</th>\n",
       "      <td>-72.503237</td>\n",
       "      <td>42.377651</td>\n",
       "      <td>77.0</td>\n",
       "      <td>36776.0</td>\n",
       "      <td>42567.0</td>\n",
       "      <td>2.46</td>\n",
       "    </tr>\n",
       "    <tr>\n",
       "      <th>132</th>\n",
       "      <td>-72.104432</td>\n",
       "      <td>42.412094</td>\n",
       "      <td>59.0</td>\n",
       "      <td>5079.0</td>\n",
       "      <td>50395.0</td>\n",
       "      <td>2.69</td>\n",
       "    </tr>\n",
       "    <tr>\n",
       "      <th>133</th>\n",
       "      <td>-72.411005</td>\n",
       "      <td>42.278424</td>\n",
       "      <td>68.0</td>\n",
       "      <td>12997.0</td>\n",
       "      <td>52425.0</td>\n",
       "      <td>2.65</td>\n",
       "    </tr>\n",
       "    <tr>\n",
       "      <th>134</th>\n",
       "      <td>-72.948288</td>\n",
       "      <td>42.174313</td>\n",
       "      <td>28.0</td>\n",
       "      <td>1234.0</td>\n",
       "      <td>52663.0</td>\n",
       "      <td>2.68</td>\n",
       "    </tr>\n",
       "  </tbody>\n",
       "</table>\n",
       "</div>"
      ],
      "text/plain": [
       "          LocX       LocY  RegDens   RegPop  MedHHInc  MeanHHSz\n",
       "130 -72.620290  42.070610     83.0  16475.0   45735.0      2.25\n",
       "131 -72.503237  42.377651     77.0  36776.0   42567.0      2.46\n",
       "132 -72.104432  42.412094     59.0   5079.0   50395.0      2.69\n",
       "133 -72.411005  42.278424     68.0  12997.0   52425.0      2.65\n",
       "134 -72.948288  42.174313     28.0   1234.0   52663.0      2.68"
      ]
     },
     "execution_count": 21,
     "metadata": {},
     "output_type": "execute_result"
    }
   ],
   "source": [
    "dfc_outlier.head()"
   ]
  },
  {
   "cell_type": "code",
   "execution_count": 22,
   "metadata": {},
   "outputs": [],
   "source": [
    "# >>> df = pd.concat([dfc_out, dfc_outlier])\n",
    "# >>> df = df.reset_index(drop=True)"
   ]
  },
  {
   "cell_type": "code",
   "execution_count": 23,
   "metadata": {},
   "outputs": [],
   "source": [
    "# df_gpby = df.groupby(list(df.columns))\n",
    "# idx = [x[0] for x in df_gpby.groups.values() if len(x) == 1]\n",
    "# df.reindex(idx)"
   ]
  },
  {
   "cell_type": "markdown",
   "metadata": {},
   "source": [
    "## Imputación de valores ausentes\n",
    "En los pasos anteriores hemos identificado los outliers y les hemos asignado a un valor nulo."
   ]
  },
  {
   "cell_type": "markdown",
   "metadata": {},
   "source": [
    "Ahora en este paso lo que vamos a hacer es darles un valor a los outliers para tener un dataset sin valores nulos y completar también si hay datos missing. Utiliza la técnica que consideres mas adecuada."
   ]
  },
  {
   "cell_type": "markdown",
   "metadata": {},
   "source": [
    "Recuerda que una opción es predecir los valores missing a partir de otras variables explicativas a través de una regresión."
   ]
  },
  {
   "cell_type": "markdown",
   "metadata": {},
   "source": [
    "Para mostrarte como realizar una regresión simple te incluyo un ejemplo a continuación.\n",
    "En primer lugar generamos unos datos \"casi aleatorios\" que nos sirvan de ejemplo. Se trata de ajustar una línea que siga el modelo siguiente:\n",
    "$$\n",
    "y = ax + b\n",
    "$$\n",
    "donde $a$ es conocida como *slope* o *pendiente*, y $b$ es conocida como *intercept* o *constante*.\n",
    "\n",
    "Consideramos los siguientes datos, que mostramos con gráfico de dispersión y que consiste en un modelo con pendiente 2 y constante -5:"
   ]
  },
  {
   "cell_type": "code",
   "execution_count": 24,
   "metadata": {},
   "outputs": [
    {
     "data": {
      "image/png": "[encoded data removed]",
      "text/plain": [
       "<Figure size 432x288 with 1 Axes>"
      ]
     },
     "metadata": {
      "needs_background": "light"
     },
     "output_type": "display_data"
    }
   ],
   "source": [
    "rng = np.random.RandomState(1)\n",
    "x = 10 * rng.rand(50)\n",
    "y = 2 * x - 5 + rng.randn(50)\n",
    "plt.scatter(x, y);"
   ]
  },
  {
   "cell_type": "markdown",
   "metadata": {},
   "source": [
    "Podemos utilizar el estimador Scikit-Learn's LinearRegression para ajustar los datos y construir la recta que mejor se ajusta:"
   ]
  },
  {
   "cell_type": "code",
   "execution_count": 25,
   "metadata": {
    "scrolled": true
   },
   "outputs": [
    {
     "data": {
      "image/png": "[encoded data removed]",
      "text/plain": [
       "<Figure size 432x288 with 1 Axes>"
      ]
     },
     "metadata": {
      "needs_background": "light"
     },
     "output_type": "display_data"
    }
   ],
   "source": [
    "from sklearn.linear_model import LinearRegression\n",
    "model = LinearRegression(fit_intercept=True)\n",
    "\n",
    "model.fit(x[:, np.newaxis], y)\n",
    "\n",
    "xfit = np.linspace(0, 10, 1000)\n",
    "yfit = model.predict(xfit[:, np.newaxis])\n",
    "\n",
    "plt.scatter(x, y)\n",
    "plt.plot(xfit, yfit);"
   ]
  },
  {
   "cell_type": "markdown",
   "metadata": {},
   "source": [
    "Y ya lo tenemos, la pendiente y la constante del modelo están en los parámetros fit, que como sabemos aparecen en Scikit-Learn marcados con un guión bajo.\n",
    "Los parámetros relevantes son ``coef_`` y ``intercept_``. Y podemos utilizar cualquier nuevo dato de x para estimar y."
   ]
  },
  {
   "cell_type": "code",
   "execution_count": 26,
   "metadata": {},
   "outputs": [
    {
     "data": {
      "text/plain": [
       "-2715"
      ]
     },
     "execution_count": 26,
     "metadata": {},
     "output_type": "execute_result"
    }
   ],
   "source": [
    "#Diferencia para conocer el numero de outliers eliminadso por Z-Score\n",
    "diff = len(dfc_outlier)-len(dfc_out)\n",
    "diff"
   ]
  },
  {
   "cell_type": "code",
   "execution_count": 27,
   "metadata": {},
   "outputs": [],
   "source": [
    "\n",
    "list = dfc_out.mean()"
   ]
  },
  {
   "cell_type": "code",
   "execution_count": 28,
   "metadata": {},
   "outputs": [],
   "source": [
    "#Datafarame que se usara para sustituir la cantidad de outliers por el vaor medio de cada variable\n",
    "mean_outlier = pd.DataFrame(columns =  ['LocX', 'LocY', 'RegDens','RegPop', 'MedHHInc', 'MeanHHSz'])"
   ]
  },
  {
   "cell_type": "code",
   "execution_count": 29,
   "metadata": {},
   "outputs": [],
   "source": [
    "i = 0\n",
    "while i < abs(diff):\n",
    "    mean_outlier = mean_outlier.append([list])\n",
    "    i+=1"
   ]
  },
  {
   "cell_type": "code",
   "execution_count": 30,
   "metadata": {},
   "outputs": [],
   "source": [
    "dfc_final = pd.concat([dfc_outlier, mean_outlier], ignore_index=True)"
   ]
  },
  {
   "cell_type": "code",
   "execution_count": 31,
   "metadata": {},
   "outputs": [
    {
     "name": "stdout",
     "output_type": "stream",
     "text": [
      "<class 'pandas.core.frame.DataFrame'>\n",
      "RangeIndex: 33178 entries, 0 to 33177\n",
      "Data columns (total 6 columns):\n",
      "LocX        33178 non-null float64\n",
      "LocY        33178 non-null float64\n",
      "RegDens     33178 non-null float64\n",
      "RegPop      33178 non-null float64\n",
      "MedHHInc    33178 non-null float64\n",
      "MeanHHSz    33178 non-null float64\n",
      "dtypes: float64(6)\n",
      "memory usage: 1.5 MB\n"
     ]
    }
   ],
   "source": [
    "dfc_final.info()"
   ]
  },
  {
   "cell_type": "code",
   "execution_count": 32,
   "metadata": {},
   "outputs": [],
   "source": [
    "dfc_final = dfc_final.values"
   ]
  },
  {
   "cell_type": "markdown",
   "metadata": {
    "collapsed": true
   },
   "source": [
    "* ¿Consideras que dispones ahora de un dataset mas adecuado para hacer un clustering? ¿Por qué?"
   ]
  },
  {
   "cell_type": "markdown",
   "metadata": {},
   "source": [
    "En este caso se procede a empezar con el clustring tras identificar los outliers que pueden provocar problemas en los algoritmos que se usan a continuación"
   ]
  },
  {
   "cell_type": "markdown",
   "metadata": {
    "collapsed": true
   },
   "source": []
  },
  {
   "cell_type": "markdown",
   "metadata": {},
   "source": [
    "# Clustering jerárquico aglomerativo y kmeans\n",
    "\n",
    "En esta parte queremos aplicar el método K-means ( y en particular kmeans ++) al dataset anterior con el objetivo de determinar los clusters mas adecuados para abrir tiendas e incluso la tipología de tiendas que consideremos mas apropiada para los diferentes clusters.\n",
    "\n",
    "* Aunque existen otras técnicas, se recomienda aplicar un método de clusterización jerárquico aglomerativo en una primera etapa y a través del dendrograma seleccionar el número de clusters adecuado\n",
    "\n",
    "* Posteriormente aplicamos kmeans sobre los clusters estimados por el metodo jerárquico."
   ]
  },
  {
   "cell_type": "markdown",
   "metadata": {},
   "source": [
    "<img src=\"dendrograma.png\" width=\"50%\">"
   ]
  },
  {
   "cell_type": "markdown",
   "metadata": {},
   "source": [
    "Para que sea mas productivo, la recomendación es realizarlo de la siguiente forma:\n",
    "\n",
    "* Primero seleccionar una submuestra de 100-200 registros para visualizar adecuadamente el dendrograma y de ahí extraer el número de clusters.\n",
    "* Aplicar kmeans al número de clusters elegido previamente.\n",
    "\n",
    "Si el resultado no fuese adecuado ejecutar kmeans variando el número de clusters de acuerdo a la información proporcionada por el dendrograma."
   ]
  },
  {
   "cell_type": "code",
   "execution_count": 33,
   "metadata": {},
   "outputs": [],
   "source": [
    "from sklearn.cluster import KMeans"
   ]
  },
  {
   "cell_type": "code",
   "execution_count": 34,
   "metadata": {},
   "outputs": [
    {
     "name": "stdout",
     "output_type": "stream",
     "text": [
      "[[-9.20311286e+01  3.79610240e+01  3.47162864e+01  2.26878507e+03\n",
      "   2.55077292e+04  2.49114298e+00]\n",
      " [-8.82273632e+01  4.00706265e+01  5.54139667e+01  4.88258910e+03\n",
      "   5.08176848e+04  2.64660902e+00]\n",
      " [-9.09231462e+01  3.68712768e+01  7.94878274e+01  2.76792974e+04\n",
      "   3.51794465e+04  2.53479198e+00]\n",
      " [-8.58003149e+01  3.95252329e+01  7.28974855e+01  9.76067698e+03\n",
      "   7.31674500e+04  2.71184397e+00]\n",
      " [-9.25170649e+01  3.83707839e+01  8.51280702e+01  3.02720187e+04\n",
      "   5.79315456e+04  2.63615789e+00]\n",
      " [-9.04642905e+01  3.94756519e+01  4.22836636e+01  4.45997258e+03\n",
      "   3.71757827e+04  2.55044896e+00]]\n"
     ]
    }
   ],
   "source": [
    "# creamos objeto kmeans\n",
    "kmeans = KMeans(n_clusters=6,init='k-means++')\n",
    "# hacemos el ajuste del objeto kmeans a los datos\n",
    "kmeans.fit(dfc_final)\n",
    "# mostramos la localización de los clusters en el objeto kmeans\n",
    "print(kmeans.cluster_centers_)\n",
    "# salvamos los nuevos clusters para graficarlos\n",
    "y_km = kmeans.fit_predict(dfc_final)"
   ]
  },
  {
   "cell_type": "code",
   "execution_count": 35,
   "metadata": {},
   "outputs": [
    {
     "data": {
      "text/plain": [
       "<matplotlib.collections.PathCollection at 0x1a203ad7f0>"
      ]
     },
     "execution_count": 35,
     "metadata": {},
     "output_type": "execute_result"
    },
    {
     "data": {
      "image/png": "[encoded data removed]",
      "text/plain": [
       "<Figure size 432x288 with 1 Axes>"
      ]
     },
     "metadata": {
      "needs_background": "light"
     },
     "output_type": "display_data"
    }
   ],
   "source": [
    "#plt.scatter(dfc_final[y_km ==0,0], dfc_final[y_km == 0,1], s=100, c='red')\n",
    "#plt.scatter(dfc_final[y_km ==1,0], dfc_final[y_km == 1,1], s=100, c='black')\n",
    "plt.scatter(dfc_final[y_km ==2,0], dfc_final[y_km == 2,1], s=100, c='blue')\n",
    "plt.scatter(dfc_final[y_km ==3,0], dfc_final[y_km == 3,1], s=100, c='cyan')\n",
    "plt.scatter(dfc_final[y_km ==4,0], dfc_final[y_km == 4,1], s=100, c='yellow')\n",
    "plt.scatter(dfc_final[y_km ==5,0], dfc_final[y_km == 5,1], s=100, c='green')"
   ]
  },
  {
   "cell_type": "code",
   "execution_count": 36,
   "metadata": {},
   "outputs": [
    {
     "data": {
      "text/plain": [
       "5"
      ]
     },
     "execution_count": 36,
     "metadata": {},
     "output_type": "execute_result"
    }
   ],
   "source": [
    "y_km.max()"
   ]
  },
  {
   "cell_type": "code",
   "execution_count": 37,
   "metadata": {},
   "outputs": [],
   "source": [
    "import scipy.cluster.hierarchy as sch\n",
    "from sklearn.cluster import AgglomerativeClustering"
   ]
  },
  {
   "cell_type": "code",
   "execution_count": 38,
   "metadata": {
    "scrolled": true
   },
   "outputs": [
    {
     "data": {
      "image/png": "[encoded data removed]",
      "text/plain": [
       "<Figure size 432x288 with 1 Axes>"
      ]
     },
     "metadata": {
      "needs_background": "light"
     },
     "output_type": "display_data"
    }
   ],
   "source": [
    "# creamos el dendrograma\n",
    "dendrogram = sch.dendrogram(sch.linkage(dfc_final, method='ward'))\n",
    "# creamos los clusters\n",
    "hc = AgglomerativeClustering(n_clusters=6, affinity = 'euclidean', linkage = 'ward')\n",
    "# salvamos los clusters para graficarlos\n",
    "y_hc = hc.fit_predict(dfc_final)"
   ]
  },
  {
   "cell_type": "code",
   "execution_count": 46,
   "metadata": {},
   "outputs": [
    {
     "data": {
      "text/plain": [
       "<matplotlib.collections.PathCollection at 0x1a3629da58>"
      ]
     },
     "execution_count": 46,
     "metadata": {},
     "output_type": "execute_result"
    },
    {
     "data": {
      "image/png": "[encoded data removed]",
      "text/plain": [
       "<Figure size 432x288 with 1 Axes>"
      ]
     },
     "metadata": {
      "needs_background": "light"
     },
     "output_type": "display_data"
    }
   ],
   "source": [
    "#plt.scatter(dfc_final[y_hc ==0,0], dfc_final[y_hc == 0,1], s=100, c='red')\n",
    "#plt.scatter(dfc_final[y_hc==1,0], dfc_final[y_hc == 1,1], s=100, c='black')\n",
    "#plt.scatter(dfc_final[y_hc ==2,0], dfc_final[y_hc == 2,1], s=100, c='blue')\n",
    "plt.scatter(dfc_final[y_hc ==3,0], dfc_final[y_hc == 3,1], s=100, c='cyan')\n",
    "plt.scatter(dfc_final[y_hc ==4,0], dfc_final[y_hc == 4,1], s=100, c='yellow')\n",
    "plt.scatter(dfc_final[y_hc ==5,0], dfc_final[y_hc == 5,1], s=100, c='green')"
   ]
  },
  {
   "cell_type": "code",
   "execution_count": 40,
   "metadata": {},
   "outputs": [
    {
     "data": {
      "text/plain": [
       "array([2, 2, 5, ..., 3, 3, 3])"
      ]
     },
     "execution_count": 40,
     "metadata": {},
     "output_type": "execute_result"
    }
   ],
   "source": [
    "y_hc"
   ]
  },
  {
   "cell_type": "code",
   "execution_count": 41,
   "metadata": {},
   "outputs": [
    {
     "data": {
      "text/html": [
       "<div>\n",
       "<style scoped>\n",
       "    .dataframe tbody tr th:only-of-type {\n",
       "        vertical-align: middle;\n",
       "    }\n",
       "\n",
       "    .dataframe tbody tr th {\n",
       "        vertical-align: top;\n",
       "    }\n",
       "\n",
       "    .dataframe thead th {\n",
       "        text-align: right;\n",
       "    }\n",
       "</style>\n",
       "<table border=\"1\" class=\"dataframe\">\n",
       "  <thead>\n",
       "    <tr style=\"text-align: right;\">\n",
       "      <th></th>\n",
       "      <th>Numrow</th>\n",
       "      <th>LocX</th>\n",
       "      <th>LocY</th>\n",
       "      <th>RegDens</th>\n",
       "      <th>RegPop</th>\n",
       "      <th>MedHHInc</th>\n",
       "      <th>MeanHHSz</th>\n",
       "    </tr>\n",
       "  </thead>\n",
       "  <tbody>\n",
       "    <tr>\n",
       "      <th>count</th>\n",
       "      <td>33178.000000</td>\n",
       "      <td>33178.000000</td>\n",
       "      <td>33178.000000</td>\n",
       "      <td>33178.000000</td>\n",
       "      <td>33178.000000</td>\n",
       "      <td>33178.000000</td>\n",
       "      <td>33178.000000</td>\n",
       "    </tr>\n",
       "    <tr>\n",
       "      <th>mean</th>\n",
       "      <td>16588.500000</td>\n",
       "      <td>-91.084343</td>\n",
       "      <td>38.830389</td>\n",
       "      <td>50.500016</td>\n",
       "      <td>8596.977395</td>\n",
       "      <td>38248.093857</td>\n",
       "      <td>2.500710</td>\n",
       "    </tr>\n",
       "    <tr>\n",
       "      <th>std</th>\n",
       "      <td>9577.807952</td>\n",
       "      <td>15.070689</td>\n",
       "      <td>5.359397</td>\n",
       "      <td>28.421424</td>\n",
       "      <td>12978.758221</td>\n",
       "      <td>17469.135891</td>\n",
       "      <td>0.595747</td>\n",
       "    </tr>\n",
       "    <tr>\n",
       "      <th>min</th>\n",
       "      <td>0.000000</td>\n",
       "      <td>-176.636755</td>\n",
       "      <td>17.962234</td>\n",
       "      <td>1.000000</td>\n",
       "      <td>0.000000</td>\n",
       "      <td>0.000000</td>\n",
       "      <td>0.000000</td>\n",
       "    </tr>\n",
       "    <tr>\n",
       "      <th>25%</th>\n",
       "      <td>8294.250000</td>\n",
       "      <td>-97.219483</td>\n",
       "      <td>35.383955</td>\n",
       "      <td>26.000000</td>\n",
       "      <td>656.000000</td>\n",
       "      <td>28903.750000</td>\n",
       "      <td>2.360000</td>\n",
       "    </tr>\n",
       "    <tr>\n",
       "      <th>50%</th>\n",
       "      <td>16588.500000</td>\n",
       "      <td>-88.308757</td>\n",
       "      <td>39.460478</td>\n",
       "      <td>50.500016</td>\n",
       "      <td>2515.000000</td>\n",
       "      <td>35762.000000</td>\n",
       "      <td>2.550000</td>\n",
       "    </tr>\n",
       "    <tr>\n",
       "      <th>75%</th>\n",
       "      <td>24882.750000</td>\n",
       "      <td>-80.380665</td>\n",
       "      <td>42.105602</td>\n",
       "      <td>75.000000</td>\n",
       "      <td>11167.500000</td>\n",
       "      <td>45229.250000</td>\n",
       "      <td>2.740000</td>\n",
       "    </tr>\n",
       "    <tr>\n",
       "      <th>max</th>\n",
       "      <td>33177.000000</td>\n",
       "      <td>-65.292575</td>\n",
       "      <td>71.299525</td>\n",
       "      <td>100.000000</td>\n",
       "      <td>144024.000000</td>\n",
       "      <td>200001.000000</td>\n",
       "      <td>8.490000</td>\n",
       "    </tr>\n",
       "  </tbody>\n",
       "</table>\n",
       "</div>"
      ],
      "text/plain": [
       "             Numrow          LocX          LocY       RegDens         RegPop  \\\n",
       "count  33178.000000  33178.000000  33178.000000  33178.000000   33178.000000   \n",
       "mean   16588.500000    -91.084343     38.830389     50.500016    8596.977395   \n",
       "std     9577.807952     15.070689      5.359397     28.421424   12978.758221   \n",
       "min        0.000000   -176.636755     17.962234      1.000000       0.000000   \n",
       "25%     8294.250000    -97.219483     35.383955     26.000000     656.000000   \n",
       "50%    16588.500000    -88.308757     39.460478     50.500016    2515.000000   \n",
       "75%    24882.750000    -80.380665     42.105602     75.000000   11167.500000   \n",
       "max    33177.000000    -65.292575     71.299525    100.000000  144024.000000   \n",
       "\n",
       "            MedHHInc      MeanHHSz  \n",
       "count   33178.000000  33178.000000  \n",
       "mean    38248.093857      2.500710  \n",
       "std     17469.135891      0.595747  \n",
       "min         0.000000      0.000000  \n",
       "25%     28903.750000      2.360000  \n",
       "50%     35762.000000      2.550000  \n",
       "75%     45229.250000      2.740000  \n",
       "max    200001.000000      8.490000  "
      ]
     },
     "execution_count": 41,
     "metadata": {},
     "output_type": "execute_result"
    }
   ],
   "source": [
    "dfc.describe()"
   ]
  },
  {
   "cell_type": "code",
   "execution_count": 42,
   "metadata": {},
   "outputs": [
    {
     "data": {
      "image/png": "[encoded data removed]",
      "text/plain": [
       "<Figure size 432x288 with 1 Axes>"
      ]
     },
     "metadata": {
      "needs_background": "light"
     },
     "output_type": "display_data"
    }
   ],
   "source": [
    "#Using the elbow method to find the optimum number of clusters\n",
    "from sklearn.cluster import KMeans\n",
    "wcss = []\n",
    "for i in range(1,11):\n",
    "    km=KMeans(n_clusters=i,init='k-means++', max_iter=300, n_init=10, random_state=0)\n",
    "    km.fit(dfc_final)\n",
    "    wcss.append(km.inertia_)\n",
    "plt.plot(range(1,11),wcss)\n",
    "plt.title('Elbow Method')\n",
    "plt.xlabel('Number of clusters')\n",
    "plt.ylabel('wcss')\n",
    "plt.show()"
   ]
  },
  {
   "cell_type": "code",
   "execution_count": null,
   "metadata": {},
   "outputs": [],
   "source": []
  },
  {
   "cell_type": "code",
   "execution_count": null,
   "metadata": {},
   "outputs": [],
   "source": []
  },
  {
   "cell_type": "markdown",
   "metadata": {},
   "source": [
    "# ¿Y si utilizas DBSCAN?"
   ]
  },
  {
   "cell_type": "code",
   "execution_count": 43,
   "metadata": {},
   "outputs": [],
   "source": [
    "from sklearn.cluster import DBSCAN\n",
    "from sklearn import metrics"
   ]
  },
  {
   "cell_type": "code",
   "execution_count": 44,
   "metadata": {},
   "outputs": [
    {
     "data": {
      "text/plain": [
       "Text(0,0.5,'Feature 1')"
      ]
     },
     "execution_count": 44,
     "metadata": {},
     "output_type": "execute_result"
    },
    {
     "data": {
      "image/png": "[encoded data removed]",
      "text/plain": [
       "<Figure size 432x288 with 1 Axes>"
      ]
     },
     "metadata": {
      "needs_background": "light"
     },
     "output_type": "display_data"
    }
   ],
   "source": [
    "# clusterizamos los datos anteriores en 4 clusters\n",
    "dbscan = DBSCAN(eps=1.5, min_samples = 10)\n",
    "clusters = dbscan.fit_predict(dfc_final)\n",
    "# graficamos las asignaciones de clusters\n",
    "plt.scatter(dfc_final[:, 2], dfc_final[:, 3], c=clusters, cmap=\"plasma\")\n",
    "plt.xlabel(\"Feature 0\")\n",
    "plt.ylabel(\"Feature 1\")"
   ]
  },
  {
   "cell_type": "markdown",
   "metadata": {},
   "source": [
    "# Perfiles de los clusters (profiling)"
   ]
  },
  {
   "cell_type": "markdown",
   "metadata": {},
   "source": [
    "Una vez generados los clusters adecuados tenemos que analizar el pérfil de cada uno de los segmentos, utilizando las variables que tenemos disponibles."
   ]
  },
  {
   "cell_type": "markdown",
   "metadata": {},
   "source": [
    "El análisis de los pérfiles nos ayudará a establecer las conclusiones y las recomendaciones."
   ]
  },
  {
   "cell_type": "code",
   "execution_count": null,
   "metadata": {},
   "outputs": [],
   "source": [
    "profiles = pd.DataFrame(dfc_final, columns=['LocX', 'LocY', 'RegDens','RegPop', 'MedHHInc', 'MeanHHSz'])\n",
    "profiles['Cluster'] = y_km\n",
    "\n",
    "profiles"
   ]
  },
  {
   "cell_type": "code",
   "execution_count": null,
   "metadata": {},
   "outputs": [],
   "source": [
    "Profiling = profiles[['RegDens','RegPop', 'MedHHInc', 'MeanHHSz', 'Cluster']]\n",
    "Profiling = Profiling.groupby(['Cluster']).mean().add_suffix('_avg').reset_index()\n",
    "Profiling"
   ]
  },
  {
   "cell_type": "markdown",
   "metadata": {},
   "source": [
    "# Conclusiones y recomendaciones\n",
    "\n",
    "* ¿Cuantos clusters has identificado?\n",
    "* ¿Qué les caracteriza a cada uno de ellos?\n",
    "* ¿Qué propuesta de tipología de tiendas propondrías?\n",
    "* ¿Que otros factores tendrías en cuenta para diseñar un plan de expansión de tiendas?"
   ]
  },
  {
   "cell_type": "markdown",
   "metadata": {},
   "source": [
    "Regiones con alta densidad de poblacion\n",
    "\n",
    "Se han identificado los Clusters numero 2 y 4 con areas con alta densidad en la region - zonas muy pobladas - donde además el ingreso medio coincide con ser el más alto. Una sugerencia podria ser localizar en grandes establecimientos oportunidades o hacer aperturas de centros mas grandes y, pro tanto, es necesaria una mayor inversion. Se pueden identificar como las grandes ciudades y sus suburbios en USA, como se muestra a continuacion:"
   ]
  },
  {
   "cell_type": "code",
   "execution_count": null,
   "metadata": {},
   "outputs": [],
   "source": [
    "plt.scatter(dfc_final[y_km ==2,0], dfc_final[y_km == 2,1], s=100, c='blue')"
   ]
  },
  {
   "cell_type": "code",
   "execution_count": null,
   "metadata": {},
   "outputs": [],
   "source": [
    "plt.scatter(dfc_final[y_km ==4,0], dfc_final[y_km == 4,1], s=100, c='green')"
   ]
  },
  {
   "cell_type": "markdown",
   "metadata": {},
   "source": [
    "Zonas rurales \n",
    "\n",
    "En los Clusters 1 y 3 se puede identificar las zonas mas extensas y por todo el terrotorio, con valores de densidad de poblacion mas bajos, y con rentas en niveles inferiores. Se presenta una extensa region donde la distribucion y la oferta podria ser diferente para estos potenciales clientes.|"
   ]
  },
  {
   "cell_type": "code",
   "execution_count": null,
   "metadata": {},
   "outputs": [],
   "source": []
  },
  {
   "cell_type": "code",
   "execution_count": null,
   "metadata": {},
   "outputs": [],
   "source": [
    "plt.scatter(dfc_final[y_km ==1,0], dfc_final[y_km == 1,1], s=100, c='green')"
   ]
  },
  {
   "cell_type": "code",
   "execution_count": null,
   "metadata": {},
   "outputs": [],
   "source": [
    "plt.scatter(dfc_final[y_km ==3,0], dfc_final[y_km == 3,1], s=100, c='blue')"
   ]
  },
  {
   "cell_type": "markdown",
   "metadata": {},
   "source": [
    "Ademas de la estrategia propuesta con los valores obtenidos, se puede correlar y extender este estudio con datos como movilidad, paro, tecnologia o economia; asumiendo que todos ellos podrian influir considerablemente a la hora de la estrategia de distrubcion basado en posibles clientes."
   ]
  }
 ],
 "metadata": {
  "anaconda-cloud": {},
  "kernelspec": {
   "display_name": "Python 3",
   "language": "python",
   "name": "python3"
  },
  "language_info": {
   "codemirror_mode": {
    "name": "ipython",
    "version": 3
   },
   "file_extension": ".py",
   "mimetype": "text/x-python",
   "name": "python",
   "nbconvert_exporter": "python",
   "pygments_lexer": "ipython3",
   "version": "3.7.2"
  },
  "toc": {
   "base_numbering": 1,
   "nav_menu": {},
   "number_sections": true,
   "sideBar": true,
   "skip_h1_title": false,
   "title_cell": "Table of Contents",
   "title_sidebar": "Contents",
   "toc_cell": false,
   "toc_position": {
    "height": "calc(100% - 180px)",
    "left": "10px",
    "top": "150px",
    "width": "165px"
   },
   "toc_section_display": true,
   "toc_window_display": false
  },
  "varInspector": {
   "cols": {
    "lenName": 16,
    "lenType": 16,
    "lenVar": 40
   },
   "kernels_config": {
    "python": {
     "delete_cmd_postfix": "",
     "delete_cmd_prefix": "del ",
     "library": "var_list.py",
     "varRefreshCmd": "print(var_dic_list())"
    },
    "r": {
     "delete_cmd_postfix": ") ",
     "delete_cmd_prefix": "rm(",
     "library": "var_list.r",
     "varRefreshCmd": "cat(var_dic_list()) "
    }
   },
   "types_to_exclude": [
    "module",
    "function",
    "builtin_function_or_method",
    "instance",
    "_Feature"
   ],
   "window_display": false
  }
 },
 "nbformat": 4,
 "nbformat_minor": 2
}
